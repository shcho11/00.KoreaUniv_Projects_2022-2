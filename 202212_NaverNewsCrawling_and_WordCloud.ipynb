{
  "nbformat": 4,
  "nbformat_minor": 0,
  "metadata": {
    "colab": {
      "provenance": [],
      "mount_file_id": "1B2puatUHho80nzNMCFL8bKOlGrQKRyVM",
      "authorship_tag": "ABX9TyOAapkm3d6H2h1l0PW/Ahfc",
      "include_colab_link": true
    },
    "kernelspec": {
      "name": "python3",
      "display_name": "Python 3"
    },
    "language_info": {
      "name": "python"
    }
  },
  "cells": [
    {
      "cell_type": "markdown",
      "metadata": {
        "id": "view-in-github",
        "colab_type": "text"
      },
      "source": [
        "<a href=\"https://colab.research.google.com/github/shcho11/00.Projects_KoreaUniv_2022-2/blob/main/202212_NaverNewsCrawling_and_WordCloud.ipynb\" target=\"_parent\"><img src=\"https://colab.research.google.com/assets/colab-badge.svg\" alt=\"Open In Colab\"/></a>"
      ]
    },
    {
      "cell_type": "markdown",
      "source": [
        "# 워드클라우드(WorldCloud) 실습 \n",
        "- 네이버뉴스댓글 크롤링하여 댓글 내용에서 명사 키워드 추출, 이를 이용한 워드클라우드 만들기\n",
        "- 2022.12"
      ],
      "metadata": {
        "id": "GYVI4WXIOj53"
      }
    },
    {
      "cell_type": "code",
      "source": [
        "from google.colab import drive\n",
        "drive.mount('/content/drive/')"
      ],
      "metadata": {
        "colab": {
          "base_uri": "https://localhost:8080/"
        },
        "id": "mJJXJmiRUe8B",
        "outputId": "43a64b57-1ab7-40d7-ca34-c3e2e4972c8e"
      },
      "execution_count": 1,
      "outputs": [
        {
          "output_type": "stream",
          "name": "stdout",
          "text": [
            "Mounted at /content/drive/\n"
          ]
        }
      ]
    },
    {
      "cell_type": "code",
      "source": [
        "!pip install selenium"
      ],
      "metadata": {
        "colab": {
          "base_uri": "https://localhost:8080/"
        },
        "id": "Zjd-ZRD-Mcna",
        "outputId": "06716f35-c6fc-466f-9058-a0680cc622cb"
      },
      "execution_count": 2,
      "outputs": [
        {
          "output_type": "stream",
          "name": "stdout",
          "text": [
            "Looking in indexes: https://pypi.org/simple, https://us-python.pkg.dev/colab-wheels/public/simple/\n",
            "Collecting selenium\n",
            "  Downloading selenium-4.7.2-py3-none-any.whl (6.3 MB)\n",
            "\u001b[K     |████████████████████████████████| 6.3 MB 7.8 MB/s \n",
            "\u001b[?25hRequirement already satisfied: certifi>=2021.10.8 in /usr/local/lib/python3.8/dist-packages (from selenium) (2022.9.24)\n",
            "Collecting trio~=0.17\n",
            "  Downloading trio-0.22.0-py3-none-any.whl (384 kB)\n",
            "\u001b[K     |████████████████████████████████| 384 kB 56.3 MB/s \n",
            "\u001b[?25hCollecting trio-websocket~=0.9\n",
            "  Downloading trio_websocket-0.9.2-py3-none-any.whl (16 kB)\n",
            "Collecting urllib3[socks]~=1.26\n",
            "  Downloading urllib3-1.26.13-py2.py3-none-any.whl (140 kB)\n",
            "\u001b[K     |████████████████████████████████| 140 kB 60.6 MB/s \n",
            "\u001b[?25hRequirement already satisfied: idna in /usr/local/lib/python3.8/dist-packages (from trio~=0.17->selenium) (2.10)\n",
            "Collecting async-generator>=1.9\n",
            "  Downloading async_generator-1.10-py3-none-any.whl (18 kB)\n",
            "Collecting sniffio\n",
            "  Downloading sniffio-1.3.0-py3-none-any.whl (10 kB)\n",
            "Requirement already satisfied: sortedcontainers in /usr/local/lib/python3.8/dist-packages (from trio~=0.17->selenium) (2.4.0)\n",
            "Requirement already satisfied: attrs>=19.2.0 in /usr/local/lib/python3.8/dist-packages (from trio~=0.17->selenium) (22.1.0)\n",
            "Collecting exceptiongroup>=1.0.0rc9\n",
            "  Downloading exceptiongroup-1.0.4-py3-none-any.whl (14 kB)\n",
            "Collecting outcome\n",
            "  Downloading outcome-1.2.0-py2.py3-none-any.whl (9.7 kB)\n",
            "Collecting wsproto>=0.14\n",
            "  Downloading wsproto-1.2.0-py3-none-any.whl (24 kB)\n",
            "Requirement already satisfied: PySocks!=1.5.7,<2.0,>=1.5.6 in /usr/local/lib/python3.8/dist-packages (from urllib3[socks]~=1.26->selenium) (1.7.1)\n",
            "Collecting h11<1,>=0.9.0\n",
            "  Downloading h11-0.14.0-py3-none-any.whl (58 kB)\n",
            "\u001b[K     |████████████████████████████████| 58 kB 6.7 MB/s \n",
            "\u001b[?25hInstalling collected packages: sniffio, outcome, h11, exceptiongroup, async-generator, wsproto, urllib3, trio, trio-websocket, selenium\n",
            "  Attempting uninstall: urllib3\n",
            "    Found existing installation: urllib3 1.24.3\n",
            "    Uninstalling urllib3-1.24.3:\n",
            "      Successfully uninstalled urllib3-1.24.3\n",
            "\u001b[31mERROR: pip's dependency resolver does not currently take into account all the packages that are installed. This behaviour is the source of the following dependency conflicts.\n",
            "requests 2.23.0 requires urllib3!=1.25.0,!=1.25.1,<1.26,>=1.21.1, but you have urllib3 1.26.13 which is incompatible.\u001b[0m\n",
            "Successfully installed async-generator-1.10 exceptiongroup-1.0.4 h11-0.14.0 outcome-1.2.0 selenium-4.7.2 sniffio-1.3.0 trio-0.22.0 trio-websocket-0.9.2 urllib3-1.26.13 wsproto-1.2.0\n"
          ]
        }
      ]
    },
    {
      "cell_type": "code",
      "source": [
        "from selenium import webdriver\n",
        "from selenium.webdriver.common.by import By\n",
        "from bs4 import BeautifulSoup\n",
        "import time\n",
        "import pandas as pd\n",
        "\n",
        "# colab 에서 chrome driver 사용하기. \n",
        "!pip install selenium\n",
        "!apt-get update\n",
        "!apt install chromium-chromedriver\n",
        "!cp /usr/lib/chromium-browser/chromedriver /usr/bin"
      ],
      "metadata": {
        "colab": {
          "base_uri": "https://localhost:8080/"
        },
        "id": "5izx5U1NK0fC",
        "outputId": "a8ea4981-c5dc-4726-8bcf-d1f9c500d9e6"
      },
      "execution_count": 3,
      "outputs": [
        {
          "output_type": "stream",
          "name": "stdout",
          "text": [
            "Looking in indexes: https://pypi.org/simple, https://us-python.pkg.dev/colab-wheels/public/simple/\n",
            "Requirement already satisfied: selenium in /usr/local/lib/python3.8/dist-packages (4.7.2)\n",
            "Requirement already satisfied: urllib3[socks]~=1.26 in /usr/local/lib/python3.8/dist-packages (from selenium) (1.26.13)\n",
            "Requirement already satisfied: certifi>=2021.10.8 in /usr/local/lib/python3.8/dist-packages (from selenium) (2022.9.24)\n",
            "Requirement already satisfied: trio-websocket~=0.9 in /usr/local/lib/python3.8/dist-packages (from selenium) (0.9.2)\n",
            "Requirement already satisfied: trio~=0.17 in /usr/local/lib/python3.8/dist-packages (from selenium) (0.22.0)\n",
            "Requirement already satisfied: attrs>=19.2.0 in /usr/local/lib/python3.8/dist-packages (from trio~=0.17->selenium) (22.1.0)\n",
            "Requirement already satisfied: exceptiongroup>=1.0.0rc9 in /usr/local/lib/python3.8/dist-packages (from trio~=0.17->selenium) (1.0.4)\n",
            "Requirement already satisfied: idna in /usr/local/lib/python3.8/dist-packages (from trio~=0.17->selenium) (2.10)\n",
            "Requirement already satisfied: outcome in /usr/local/lib/python3.8/dist-packages (from trio~=0.17->selenium) (1.2.0)\n",
            "Requirement already satisfied: sniffio in /usr/local/lib/python3.8/dist-packages (from trio~=0.17->selenium) (1.3.0)\n",
            "Requirement already satisfied: async-generator>=1.9 in /usr/local/lib/python3.8/dist-packages (from trio~=0.17->selenium) (1.10)\n",
            "Requirement already satisfied: sortedcontainers in /usr/local/lib/python3.8/dist-packages (from trio~=0.17->selenium) (2.4.0)\n",
            "Requirement already satisfied: wsproto>=0.14 in /usr/local/lib/python3.8/dist-packages (from trio-websocket~=0.9->selenium) (1.2.0)\n",
            "Requirement already satisfied: PySocks!=1.5.7,<2.0,>=1.5.6 in /usr/local/lib/python3.8/dist-packages (from urllib3[socks]~=1.26->selenium) (1.7.1)\n",
            "Requirement already satisfied: h11<1,>=0.9.0 in /usr/local/lib/python3.8/dist-packages (from wsproto>=0.14->trio-websocket~=0.9->selenium) (0.14.0)\n",
            "Get:1 https://cloud.r-project.org/bin/linux/ubuntu bionic-cran40/ InRelease [3,626 B]\n",
            "Ign:2 https://developer.download.nvidia.com/compute/machine-learning/repos/ubuntu1804/x86_64  InRelease\n",
            "Hit:3 https://developer.download.nvidia.com/compute/cuda/repos/ubuntu1804/x86_64  InRelease\n",
            "Hit:4 https://developer.download.nvidia.com/compute/machine-learning/repos/ubuntu1804/x86_64  Release\n",
            "Get:5 http://security.ubuntu.com/ubuntu bionic-security InRelease [88.7 kB]\n",
            "Get:6 http://ppa.launchpad.net/c2d4u.team/c2d4u4.0+/ubuntu bionic InRelease [15.9 kB]\n",
            "Hit:7 http://archive.ubuntu.com/ubuntu bionic InRelease\n",
            "Get:8 http://archive.ubuntu.com/ubuntu bionic-updates InRelease [88.7 kB]\n",
            "Hit:10 http://ppa.launchpad.net/cran/libgit2/ubuntu bionic InRelease\n",
            "Hit:11 http://ppa.launchpad.net/deadsnakes/ppa/ubuntu bionic InRelease\n",
            "Get:12 http://archive.ubuntu.com/ubuntu bionic-backports InRelease [83.3 kB]\n",
            "Get:13 http://ppa.launchpad.net/graphics-drivers/ppa/ubuntu bionic InRelease [21.3 kB]\n",
            "Get:14 http://security.ubuntu.com/ubuntu bionic-security/multiverse amd64 Packages [22.9 kB]\n",
            "Get:15 http://security.ubuntu.com/ubuntu bionic-security/restricted amd64 Packages [1,307 kB]\n",
            "Get:16 http://ppa.launchpad.net/c2d4u.team/c2d4u4.0+/ubuntu bionic/main Sources [2,233 kB]\n",
            "Get:17 http://security.ubuntu.com/ubuntu bionic-security/main amd64 Packages [3,094 kB]\n",
            "Get:18 http://archive.ubuntu.com/ubuntu bionic-updates/main amd64 Packages [3,519 kB]\n",
            "Get:19 http://archive.ubuntu.com/ubuntu bionic-updates/restricted amd64 Packages [1,347 kB]\n",
            "Get:20 http://archive.ubuntu.com/ubuntu bionic-updates/multiverse amd64 Packages [30.0 kB]\n",
            "Get:21 http://ppa.launchpad.net/c2d4u.team/c2d4u4.0+/ubuntu bionic/main amd64 Packages [1,143 kB]\n",
            "Get:22 http://ppa.launchpad.net/graphics-drivers/ppa/ubuntu bionic/main amd64 Packages [40.8 kB]\n",
            "Fetched 13.0 MB in 4s (3,155 kB/s)\n",
            "Reading package lists... Done\n",
            "Reading package lists... Done\n",
            "Building dependency tree       \n",
            "Reading state information... Done\n",
            "The following package was automatically installed and is no longer required:\n",
            "  libnvidia-common-460\n",
            "Use 'apt autoremove' to remove it.\n",
            "The following additional packages will be installed:\n",
            "  chromium-browser chromium-browser-l10n chromium-codecs-ffmpeg-extra\n",
            "Suggested packages:\n",
            "  webaccounts-chromium-extension unity-chromium-extension\n",
            "The following NEW packages will be installed:\n",
            "  chromium-browser chromium-browser-l10n chromium-chromedriver\n",
            "  chromium-codecs-ffmpeg-extra\n",
            "0 upgraded, 4 newly installed, 0 to remove and 10 not upgraded.\n",
            "Need to get 95.1 MB of archives.\n",
            "After this operation, 319 MB of additional disk space will be used.\n",
            "Get:1 http://archive.ubuntu.com/ubuntu bionic-updates/universe amd64 chromium-codecs-ffmpeg-extra amd64 107.0.5304.87-0ubuntu11.18.04.1 [1,158 kB]\n",
            "Get:2 http://archive.ubuntu.com/ubuntu bionic-updates/universe amd64 chromium-browser amd64 107.0.5304.87-0ubuntu11.18.04.1 [83.1 MB]\n",
            "Get:3 http://archive.ubuntu.com/ubuntu bionic-updates/universe amd64 chromium-browser-l10n all 107.0.5304.87-0ubuntu11.18.04.1 [5,260 kB]\n",
            "Get:4 http://archive.ubuntu.com/ubuntu bionic-updates/universe amd64 chromium-chromedriver amd64 107.0.5304.87-0ubuntu11.18.04.1 [5,570 kB]\n",
            "Fetched 95.1 MB in 6s (15.4 MB/s)\n",
            "Selecting previously unselected package chromium-codecs-ffmpeg-extra.\n",
            "(Reading database ... 124015 files and directories currently installed.)\n",
            "Preparing to unpack .../chromium-codecs-ffmpeg-extra_107.0.5304.87-0ubuntu11.18.04.1_amd64.deb ...\n",
            "Unpacking chromium-codecs-ffmpeg-extra (107.0.5304.87-0ubuntu11.18.04.1) ...\n",
            "Selecting previously unselected package chromium-browser.\n",
            "Preparing to unpack .../chromium-browser_107.0.5304.87-0ubuntu11.18.04.1_amd64.deb ...\n",
            "Unpacking chromium-browser (107.0.5304.87-0ubuntu11.18.04.1) ...\n",
            "Selecting previously unselected package chromium-browser-l10n.\n",
            "Preparing to unpack .../chromium-browser-l10n_107.0.5304.87-0ubuntu11.18.04.1_all.deb ...\n",
            "Unpacking chromium-browser-l10n (107.0.5304.87-0ubuntu11.18.04.1) ...\n",
            "Selecting previously unselected package chromium-chromedriver.\n",
            "Preparing to unpack .../chromium-chromedriver_107.0.5304.87-0ubuntu11.18.04.1_amd64.deb ...\n",
            "Unpacking chromium-chromedriver (107.0.5304.87-0ubuntu11.18.04.1) ...\n",
            "Setting up chromium-codecs-ffmpeg-extra (107.0.5304.87-0ubuntu11.18.04.1) ...\n",
            "Setting up chromium-browser (107.0.5304.87-0ubuntu11.18.04.1) ...\n",
            "update-alternatives: using /usr/bin/chromium-browser to provide /usr/bin/x-www-browser (x-www-browser) in auto mode\n",
            "update-alternatives: using /usr/bin/chromium-browser to provide /usr/bin/gnome-www-browser (gnome-www-browser) in auto mode\n",
            "Setting up chromium-chromedriver (107.0.5304.87-0ubuntu11.18.04.1) ...\n",
            "Setting up chromium-browser-l10n (107.0.5304.87-0ubuntu11.18.04.1) ...\n",
            "Processing triggers for man-db (2.8.3-2ubuntu0.1) ...\n",
            "Processing triggers for hicolor-icon-theme (0.17-2) ...\n",
            "Processing triggers for mime-support (3.60ubuntu1) ...\n",
            "Processing triggers for libc-bin (2.27-3ubuntu1.6) ...\n",
            "cp: '/usr/lib/chromium-browser/chromedriver' and '/usr/bin/chromedriver' are the same file\n"
          ]
        }
      ]
    },
    {
      "cell_type": "code",
      "source": [
        "# 네이버 뉴스 댓글정보 수집 함수 1 (작성자, 작성시간, 댓글내용)\n",
        "\n",
        "def get_naver_news_all(url, wait_time=5, delay_time=1.0):\n",
        "\n",
        "  #Colab에선 웹브라우저 창이 뜨지 않으므로 별도 설정\n",
        "  options = webdriver.ChromeOptions()\n",
        "  options.add_argument('--headless')        # Head-less 설정\n",
        "  options.add_argument('--no-sandbox')\n",
        "  options.add_argument('--disable-dev-shm-usage')\n",
        "  driver = webdriver.Chrome('chromedriver', options=options)\n",
        "    \n",
        "  driver.implicitly_wait(wait_time)\n",
        "  driver.get(url)\n",
        "\n",
        "  while True:\n",
        "    try:\n",
        "            more = driver.find_elements(By.CSS_SELECTOR,'a.u_cbox_btn_more')\n",
        "            more.click()\n",
        "            time.sleep(delay_time)\n",
        "    except:\n",
        "            break\n",
        "\n",
        "  html = driver.page_source\n",
        "  # print(html)\n",
        "    \n",
        "  # soup = BeautifulSoup(html, 'lxml') #html.parser\n",
        "    \n",
        "  # 1)작성자\n",
        "  # selenium으로 작성자 포함된 태그 모두 수집\n",
        "  nicknames = driver.find_elements(By.CSS_SELECTOR,'span.u_cbox_nick')\n",
        "    \n",
        "  # 리스트에 텍스트만 담기 (리스트 컴프리핸션 문법)\n",
        "  list_nicknames = [nick.text for nick in nicknames]\n",
        "\n",
        "  # 2)댓글 시간\n",
        "  datetimes = driver.find_elements(By.CSS_SELECTOR,'span.u_cbox_date')\n",
        "  list_datetimes = [datetime.text for datetime in datetimes]\n",
        "\n",
        "  # 3)댓글 내용\n",
        "  contents = driver.find_elements(By.CSS_SELECTOR,'span.u_cbox_contents')\n",
        "  list_contents = [content.text for content in contents]\n",
        "    \n",
        "  # 4)작성자, 댓글 시간, 내용을 셋트로 취합\n",
        "  list_sum = list(zip(list_nicknames,list_datetimes,list_contents))\n",
        "    \n",
        "  # 드라이버 종료\n",
        "  driver.quit()\n",
        "    \n",
        "  # 함수를 종료하며 list_sum을 결과물로 제출\n",
        "  # return list_sum\n",
        "  return list_sum"
      ],
      "metadata": {
        "id": "VCJH_eFrRQLg"
      },
      "execution_count": 32,
      "outputs": []
    },
    {
      "cell_type": "code",
      "source": [
        "# 네이버 뉴스 댓글정보 수집 함수 2 (댓글내용만) \n",
        "\n",
        "def get_naver_news_comments(url, wait_time=5, delay_time=1.0):\n",
        "\n",
        "  #Colab에선 웹브라우저 창이 뜨지 않으므로 별도 설정\n",
        "  options = webdriver.ChromeOptions()\n",
        "  options.add_argument('--headless')        # Head-less 설정\n",
        "  options.add_argument('--no-sandbox')\n",
        "  options.add_argument('--disable-dev-shm-usage')\n",
        "  driver = webdriver.Chrome('chromedriver', options=options)\n",
        "    \n",
        "  driver.implicitly_wait(wait_time)\n",
        "\n",
        "  driver.get(url)\n",
        "\n",
        "  while True:\n",
        "    try:\n",
        "      more = driver.find_element(By.CSS_SELECTOR,'a.u_cbox_btn_more')\n",
        "      more.click()\n",
        "      time.sleep(delay_time)\n",
        "    except:\n",
        "      break\n",
        "\n",
        "  html = driver.page_source\n",
        "  # print(html)\n",
        "    \n",
        "  # soup = BeautifulSoup(html, 'lxml') #html.parser\n",
        "    \n",
        "  # 댓글 내용\n",
        "  # selenium으로 댓글내용 포함된 태그 모두 수집\n",
        "  contents = driver.find_elements(By.CSS_SELECTOR,'span.u_cbox_contents')\n",
        "  #contents = soup.select('span.u_cbox_contents')\n",
        "    \n",
        "  # 리스트에 텍스트만 담기 (리스트 컴프리핸션 문법)\n",
        "  list_contents = [content.text for content in contents]\n",
        "\n",
        "  # 드라이버 종료\n",
        "  driver.quit()\n",
        "    \n",
        "  # 함수를 종료하며 list_sum을 결과물로 제출\n",
        "  # return list_sum\n",
        "  return list_contents"
      ],
      "metadata": {
        "id": "lOhjDCZa1XdB"
      },
      "execution_count": 41,
      "outputs": []
    },
    {
      "cell_type": "markdown",
      "source": [
        "### 댓글 크롤링 대상 기사 : <YTN> 집값 끝없는 추락...송도 등 반토막 아파트 속출\n",
        "- 입력2022.12.03. 오전 7:28  수정2022.12.03. 오전 7:33\n",
        "- https://n.news.naver.com/article/052/0001821320"
      ],
      "metadata": {
        "id": "LgSU6e6hVsdD"
      }
    },
    {
      "cell_type": "code",
      "source": [
        "# 실제 함수 실행 및 엑셀로 저장\n",
        "if __name__ == '__main__': # 설명하자면 매우 길어져서 그냥 이렇게 사용하는 것을 권장\n",
        "    \n",
        "    # 원하는 기사 url 입력\n",
        "    url = \"https://n.news.naver.com/article/comment/052/0001821320\"\n",
        "    \n",
        "    # 함수 실행\n",
        "    comments = get_naver_news_comments(url)\n",
        "    \n",
        "    # 엑셀의 첫줄에 들어갈 컬럼명\n",
        "    # col = ['작성자','시간','내용']\n",
        "    \n",
        "    # pandas 데이터 프레임 형태로 가공\n",
        "    # df = pd.DataFrame(comments, columns=col)\n",
        "    df = pd.DataFrame(comments)\n",
        "\n",
        "    # 데이터 프레임을 엑셀로 저장 (파일명은 'news.xlsx', 시트명은 '뉴스')\n",
        "    # df.to_excel('news.xlsx', sheet_name='뉴스')\n",
        "    df.to_csv('news1.csv')"
      ],
      "metadata": {
        "id": "HFdUvATpK0mN"
      },
      "execution_count": 42,
      "outputs": []
    },
    {
      "cell_type": "code",
      "source": [
        "import os \n",
        "os.getcwd()"
      ],
      "metadata": {
        "colab": {
          "base_uri": "https://localhost:8080/",
          "height": 35
        },
        "id": "E-O83He_PMTA",
        "outputId": "7cc42e27-2b76-4af3-e532-a525d92a8531"
      },
      "execution_count": 43,
      "outputs": [
        {
          "output_type": "execute_result",
          "data": {
            "text/plain": [
              "'/content'"
            ],
            "application/vnd.google.colaboratory.intrinsic+json": {
              "type": "string"
            }
          },
          "metadata": {},
          "execution_count": 43
        }
      ]
    },
    {
      "cell_type": "code",
      "source": [
        "# pd.read_excel('news.xlsx', sheet_name = '뉴스')\n",
        "news2 = pd.read_csv('news1.csv')\n",
        "news2 = news2.drop(news2.columns[0], axis=1)\n",
        "news2"
      ],
      "metadata": {
        "colab": {
          "base_uri": "https://localhost:8080/",
          "height": 423
        },
        "id": "euPVpcRITAtJ",
        "outputId": "74550fe5-df15-4030-d527-3ca42d8b9675"
      },
      "execution_count": 44,
      "outputs": [
        {
          "output_type": "execute_result",
          "data": {
            "text/plain": [
              "                                                     0\n",
              "0                               집값이 정상화 되고있는건데 뭐가 문제죠?\n",
              "1       3~4억 짜리가 12억씩 했으니 아직 멀었다, 부동산 투기자들 패가망신 시켜야합니다\n",
              "2    초 고령 사회 진입하고 집 살 사람이 없음. 문재인정부에서 집사지 말라고 그렇게 말...\n",
              "3                         반토막 좋아하네 거기서 반에 반은 더내려야 정상이지\n",
              "4    그거 4억짜리인데, 12억으로 1년만에 올려서 초고가 만들고, 이제 6억대로 70%...\n",
              "..                                                 ...\n",
              "493                              이부망천은 진리이자, 팩트며, 과학이다\n",
              "494                    영끌 2찍들 죽어나겠다. ㅜㅠ 본인 손가락을 탓하시오!!\n",
              "495    문재인이 결국 옳았고 재평가가 시급함. 그는 잘못 없다. 너거가 말을 안 들은 탓임.\n",
              "496  집없는세입자들이 집주인 망해라 폭락기우제 지내고있으니 참.. 벼락거지들 인성 어디가...\n",
              "497     집값은 떨어졌다하는데 종부세 낸건 왜 안돌려주나? 집 판것도 아니고... 문죄인 놈\n",
              "\n",
              "[498 rows x 1 columns]"
            ],
            "text/html": [
              "\n",
              "  <div id=\"df-c2a9613a-f191-4fea-bd76-04cb75eeb7bb\">\n",
              "    <div class=\"colab-df-container\">\n",
              "      <div>\n",
              "<style scoped>\n",
              "    .dataframe tbody tr th:only-of-type {\n",
              "        vertical-align: middle;\n",
              "    }\n",
              "\n",
              "    .dataframe tbody tr th {\n",
              "        vertical-align: top;\n",
              "    }\n",
              "\n",
              "    .dataframe thead th {\n",
              "        text-align: right;\n",
              "    }\n",
              "</style>\n",
              "<table border=\"1\" class=\"dataframe\">\n",
              "  <thead>\n",
              "    <tr style=\"text-align: right;\">\n",
              "      <th></th>\n",
              "      <th>0</th>\n",
              "    </tr>\n",
              "  </thead>\n",
              "  <tbody>\n",
              "    <tr>\n",
              "      <th>0</th>\n",
              "      <td>집값이 정상화 되고있는건데 뭐가 문제죠?</td>\n",
              "    </tr>\n",
              "    <tr>\n",
              "      <th>1</th>\n",
              "      <td>3~4억 짜리가 12억씩 했으니 아직 멀었다, 부동산 투기자들 패가망신 시켜야합니다</td>\n",
              "    </tr>\n",
              "    <tr>\n",
              "      <th>2</th>\n",
              "      <td>초 고령 사회 진입하고 집 살 사람이 없음. 문재인정부에서 집사지 말라고 그렇게 말...</td>\n",
              "    </tr>\n",
              "    <tr>\n",
              "      <th>3</th>\n",
              "      <td>반토막 좋아하네 거기서 반에 반은 더내려야 정상이지</td>\n",
              "    </tr>\n",
              "    <tr>\n",
              "      <th>4</th>\n",
              "      <td>그거 4억짜리인데, 12억으로 1년만에 올려서 초고가 만들고, 이제 6억대로 70%...</td>\n",
              "    </tr>\n",
              "    <tr>\n",
              "      <th>...</th>\n",
              "      <td>...</td>\n",
              "    </tr>\n",
              "    <tr>\n",
              "      <th>493</th>\n",
              "      <td>이부망천은 진리이자, 팩트며, 과학이다</td>\n",
              "    </tr>\n",
              "    <tr>\n",
              "      <th>494</th>\n",
              "      <td>영끌 2찍들 죽어나겠다. ㅜㅠ 본인 손가락을 탓하시오!!</td>\n",
              "    </tr>\n",
              "    <tr>\n",
              "      <th>495</th>\n",
              "      <td>문재인이 결국 옳았고 재평가가 시급함. 그는 잘못 없다. 너거가 말을 안 들은 탓임.</td>\n",
              "    </tr>\n",
              "    <tr>\n",
              "      <th>496</th>\n",
              "      <td>집없는세입자들이 집주인 망해라 폭락기우제 지내고있으니 참.. 벼락거지들 인성 어디가...</td>\n",
              "    </tr>\n",
              "    <tr>\n",
              "      <th>497</th>\n",
              "      <td>집값은 떨어졌다하는데 종부세 낸건 왜 안돌려주나? 집 판것도 아니고... 문죄인 놈</td>\n",
              "    </tr>\n",
              "  </tbody>\n",
              "</table>\n",
              "<p>498 rows × 1 columns</p>\n",
              "</div>\n",
              "      <button class=\"colab-df-convert\" onclick=\"convertToInteractive('df-c2a9613a-f191-4fea-bd76-04cb75eeb7bb')\"\n",
              "              title=\"Convert this dataframe to an interactive table.\"\n",
              "              style=\"display:none;\">\n",
              "        \n",
              "  <svg xmlns=\"http://www.w3.org/2000/svg\" height=\"24px\"viewBox=\"0 0 24 24\"\n",
              "       width=\"24px\">\n",
              "    <path d=\"M0 0h24v24H0V0z\" fill=\"none\"/>\n",
              "    <path d=\"M18.56 5.44l.94 2.06.94-2.06 2.06-.94-2.06-.94-.94-2.06-.94 2.06-2.06.94zm-11 1L8.5 8.5l.94-2.06 2.06-.94-2.06-.94L8.5 2.5l-.94 2.06-2.06.94zm10 10l.94 2.06.94-2.06 2.06-.94-2.06-.94-.94-2.06-.94 2.06-2.06.94z\"/><path d=\"M17.41 7.96l-1.37-1.37c-.4-.4-.92-.59-1.43-.59-.52 0-1.04.2-1.43.59L10.3 9.45l-7.72 7.72c-.78.78-.78 2.05 0 2.83L4 21.41c.39.39.9.59 1.41.59.51 0 1.02-.2 1.41-.59l7.78-7.78 2.81-2.81c.8-.78.8-2.07 0-2.86zM5.41 20L4 18.59l7.72-7.72 1.47 1.35L5.41 20z\"/>\n",
              "  </svg>\n",
              "      </button>\n",
              "      \n",
              "  <style>\n",
              "    .colab-df-container {\n",
              "      display:flex;\n",
              "      flex-wrap:wrap;\n",
              "      gap: 12px;\n",
              "    }\n",
              "\n",
              "    .colab-df-convert {\n",
              "      background-color: #E8F0FE;\n",
              "      border: none;\n",
              "      border-radius: 50%;\n",
              "      cursor: pointer;\n",
              "      display: none;\n",
              "      fill: #1967D2;\n",
              "      height: 32px;\n",
              "      padding: 0 0 0 0;\n",
              "      width: 32px;\n",
              "    }\n",
              "\n",
              "    .colab-df-convert:hover {\n",
              "      background-color: #E2EBFA;\n",
              "      box-shadow: 0px 1px 2px rgba(60, 64, 67, 0.3), 0px 1px 3px 1px rgba(60, 64, 67, 0.15);\n",
              "      fill: #174EA6;\n",
              "    }\n",
              "\n",
              "    [theme=dark] .colab-df-convert {\n",
              "      background-color: #3B4455;\n",
              "      fill: #D2E3FC;\n",
              "    }\n",
              "\n",
              "    [theme=dark] .colab-df-convert:hover {\n",
              "      background-color: #434B5C;\n",
              "      box-shadow: 0px 1px 3px 1px rgba(0, 0, 0, 0.15);\n",
              "      filter: drop-shadow(0px 1px 2px rgba(0, 0, 0, 0.3));\n",
              "      fill: #FFFFFF;\n",
              "    }\n",
              "  </style>\n",
              "\n",
              "      <script>\n",
              "        const buttonEl =\n",
              "          document.querySelector('#df-c2a9613a-f191-4fea-bd76-04cb75eeb7bb button.colab-df-convert');\n",
              "        buttonEl.style.display =\n",
              "          google.colab.kernel.accessAllowed ? 'block' : 'none';\n",
              "\n",
              "        async function convertToInteractive(key) {\n",
              "          const element = document.querySelector('#df-c2a9613a-f191-4fea-bd76-04cb75eeb7bb');\n",
              "          const dataTable =\n",
              "            await google.colab.kernel.invokeFunction('convertToInteractive',\n",
              "                                                     [key], {});\n",
              "          if (!dataTable) return;\n",
              "\n",
              "          const docLinkHtml = 'Like what you see? Visit the ' +\n",
              "            '<a target=\"_blank\" href=https://colab.research.google.com/notebooks/data_table.ipynb>data table notebook</a>'\n",
              "            + ' to learn more about interactive tables.';\n",
              "          element.innerHTML = '';\n",
              "          dataTable['output_type'] = 'display_data';\n",
              "          await google.colab.output.renderOutput(dataTable, element);\n",
              "          const docLink = document.createElement('div');\n",
              "          docLink.innerHTML = docLinkHtml;\n",
              "          element.appendChild(docLink);\n",
              "        }\n",
              "      </script>\n",
              "    </div>\n",
              "  </div>\n",
              "  "
            ]
          },
          "metadata": {},
          "execution_count": 44
        }
      ]
    },
    {
      "cell_type": "code",
      "source": [
        "news2.to_csv('news2.csv')"
      ],
      "metadata": {
        "id": "pYN9KgbqhpDw"
      },
      "execution_count": 45,
      "outputs": []
    },
    {
      "cell_type": "code",
      "execution_count": 46,
      "metadata": {
        "colab": {
          "base_uri": "https://localhost:8080/"
        },
        "id": "S5D1zqzMOhry",
        "outputId": "6782ca11-29bb-459f-d789-3d4d1cc5ef52"
      },
      "outputs": [
        {
          "output_type": "stream",
          "name": "stdout",
          "text": [
            "Looking in indexes: https://pypi.org/simple, https://us-python.pkg.dev/colab-wheels/public/simple/\n",
            "Collecting konlpy\n",
            "  Downloading konlpy-0.6.0-py2.py3-none-any.whl (19.4 MB)\n",
            "\u001b[K     |████████████████████████████████| 19.4 MB 6.0 MB/s \n",
            "\u001b[?25hRequirement already satisfied: numpy>=1.6 in /usr/local/lib/python3.8/dist-packages (from konlpy) (1.21.6)\n",
            "Requirement already satisfied: lxml>=4.1.0 in /usr/local/lib/python3.8/dist-packages (from konlpy) (4.9.1)\n",
            "Collecting JPype1>=0.7.0\n",
            "  Downloading JPype1-1.4.1-cp38-cp38-manylinux_2_12_x86_64.manylinux2010_x86_64.whl (465 kB)\n",
            "\u001b[K     |████████████████████████████████| 465 kB 55.0 MB/s \n",
            "\u001b[?25hRequirement already satisfied: packaging in /usr/local/lib/python3.8/dist-packages (from JPype1>=0.7.0->konlpy) (21.3)\n",
            "Requirement already satisfied: pyparsing!=3.0.5,>=2.0.2 in /usr/local/lib/python3.8/dist-packages (from packaging->JPype1>=0.7.0->konlpy) (3.0.9)\n",
            "Installing collected packages: JPype1, konlpy\n",
            "Successfully installed JPype1-1.4.1 konlpy-0.6.0\n"
          ]
        }
      ],
      "source": [
        "!pip install konlpy \n",
        "from konlpy.tag import Okt \n",
        "from wordcloud import WordCloud \n",
        "from PIL import Image \n",
        "import numpy as np"
      ]
    },
    {
      "cell_type": "code",
      "source": [
        "# 코랩 한글\n",
        "!sudo apt-get install -y fonts-nanum\n",
        "!sudo fc-cache -fv\n",
        "!rm ~/.cache/matplotlib -rf"
      ],
      "metadata": {
        "colab": {
          "base_uri": "https://localhost:8080/"
        },
        "id": "0M3C4GKLnPpq",
        "outputId": "72582ba1-09a4-4ed3-d877-0b653037161c"
      },
      "execution_count": 47,
      "outputs": [
        {
          "output_type": "stream",
          "name": "stdout",
          "text": [
            "Reading package lists... Done\n",
            "Building dependency tree       \n",
            "Reading state information... Done\n",
            "The following package was automatically installed and is no longer required:\n",
            "  libnvidia-common-460\n",
            "Use 'sudo apt autoremove' to remove it.\n",
            "The following NEW packages will be installed:\n",
            "  fonts-nanum\n",
            "0 upgraded, 1 newly installed, 0 to remove and 10 not upgraded.\n",
            "Need to get 9,604 kB of archives.\n",
            "After this operation, 29.5 MB of additional disk space will be used.\n",
            "Get:1 http://archive.ubuntu.com/ubuntu bionic/universe amd64 fonts-nanum all 20170925-1 [9,604 kB]\n",
            "Fetched 9,604 kB in 2s (5,297 kB/s)\n",
            "debconf: unable to initialize frontend: Dialog\n",
            "debconf: (No usable dialog-like program is installed, so the dialog based frontend cannot be used. at /usr/share/perl5/Debconf/FrontEnd/Dialog.pm line 76, <> line 1.)\n",
            "debconf: falling back to frontend: Readline\n",
            "debconf: unable to initialize frontend: Readline\n",
            "debconf: (This frontend requires a controlling tty.)\n",
            "debconf: falling back to frontend: Teletype\n",
            "dpkg-preconfigure: unable to re-open stdin: \n",
            "Selecting previously unselected package fonts-nanum.\n",
            "(Reading database ... 124138 files and directories currently installed.)\n",
            "Preparing to unpack .../fonts-nanum_20170925-1_all.deb ...\n",
            "Unpacking fonts-nanum (20170925-1) ...\n",
            "Setting up fonts-nanum (20170925-1) ...\n",
            "Processing triggers for fontconfig (2.12.6-0ubuntu2) ...\n",
            "/usr/share/fonts: caching, new cache contents: 0 fonts, 1 dirs\n",
            "/usr/share/fonts/truetype: caching, new cache contents: 0 fonts, 3 dirs\n",
            "/usr/share/fonts/truetype/humor-sans: caching, new cache contents: 1 fonts, 0 dirs\n",
            "/usr/share/fonts/truetype/liberation: caching, new cache contents: 16 fonts, 0 dirs\n",
            "/usr/share/fonts/truetype/nanum: caching, new cache contents: 10 fonts, 0 dirs\n",
            "/usr/local/share/fonts: caching, new cache contents: 0 fonts, 0 dirs\n",
            "/root/.local/share/fonts: skipping, no such directory\n",
            "/root/.fonts: skipping, no such directory\n",
            "/var/cache/fontconfig: cleaning cache directory\n",
            "/root/.cache/fontconfig: not cleaning non-existent cache directory\n",
            "/root/.fontconfig: not cleaning non-existent cache directory\n",
            "fc-cache: succeeded\n"
          ]
        }
      ]
    },
    {
      "cell_type": "code",
      "source": [
        "file = open('news2.csv')\n",
        "reply_text = file.readlines()\n",
        "file.close()\n",
        "print(reply_text)\n",
        "\n",
        "# file = open('drive/MyDrive/20221111_chosunilbo_opinion.txt')"
      ],
      "metadata": {
        "colab": {
          "base_uri": "https://localhost:8080/"
        },
        "id": "A0hKZMjwRXJL",
        "outputId": "5591c1dc-5c7a-404e-ac1f-65d6c2092183"
      },
      "execution_count": 49,
      "outputs": [
        {
          "output_type": "stream",
          "name": "stdout",
          "text": [
            "[',0\\n', '0,집값이 정상화 되고있는건데 뭐가 문제죠?\\n', '1,\"3~4억 짜리가 12억씩 했으니 아직 멀었다, 부동산 투기자들 패가망신 시켜야합니다\"\\n', '2,초 고령 사회 진입하고 집 살 사람이 없음. 문재인정부에서 집사지 말라고 그렇게 말했는데 투기세력들이 조장해서 집값 올린거. 더 떨어져야 함!\\n', '3,반토막 좋아하네 거기서 반에 반은 더내려야 정상이지\\n', '4,\"그거 4억짜리인데, 12억으로 1년만에 올려서 초고가 만들고, 이제 6억대로 70% 올려서 팔면서, 반토막 이라고 호구 모집하는중이다~!! 그냥 투기꾼들이 작전주 만드는것이다~!!\"\\n', '5,어정쩡한 위치 아파트들이 조정 받는거고 진짜 알짜는 신고가 찍고 있는데 양극화가 더 심해질 것 같은데\\n', '6,송도는 25평 3억대가 맞음.. 더 내려가야 됨.\\n', '7,\"송도 , 동탄 ,광교 는 3억 ㅡ 검단 ,청라,계양 2억 , 김포 3억 ㅡ 남양주 다산 3억 , 양주 ,의정부 2억 미만입니다...하남 4억 , 강동 고덕 6억 , 둔촌 8억 미만 , 위레 5억 , 용인 3억 ,수지 4억 미만입니다...수원 2억, 화성 미분양 빈집 널려있다 . 일산 , 고양 2억 ..삼송 3억(기준은 국평 33 신축 기준)\"\\n', '8,6억에산 집이 일년만에 12억 될때 기사한줄 없더라 쯧\\n', '9,엄살 부리지 마세요. 아직도 집값이 끄떡 없는곳이 많습니다. 더 많이 더 어래동안 떨어져야해요. 기자님\\n', '10,아파트 소유자 분들에게는 미안한 얘기지만 조그마한 콘크리트 공간이 정말 터무니 없이 올랐었다. 이제 대지비와 건축비 그리고 적정이윤을 포함한 가격 정도로 더 내려가야 한다. 평생벌어 집 값에 지불하면 되겠나?\\n', '11,오른건 생각안하고 내리면 난리다...월급받아서 살수있어야 집이지..평생벌어도 못살가격이 이나라 아파트 가격이다..집값좀내리게 그냥두자\\n', '12,\"허위기사, 반토막 아파트가 속출이 아니라 정상가격으로 복귀하는 아파트가 속출이 맞는 표현이지!\"\\n', '13,송~~~도 바닷바람에 짠내에 습기많고 황사까지 그다지주거환경으로는 ㅠㅠ\\n', '14,부동산대폭락시대옴\\n', '15,다 투기꾼들이 만들어논 가격 송도는 3억정도가 적정금액서쪽 땅끝마을 가보면 무슨건물만 잔뜩있고 사람은안보이는유령도시같음\\n', '16,아니 원래 가격 찾아가고 있구만 뭔 집값 폭락했다고 호들갑이야 ㅠㅠ\\n', '17,\"서울 부동산 가격은 투기꾼, 작전세력, 악덕 부동산 중개업소들이 치밀하게 준비한것이다. 부동산 가격 인플레이션에 걸려든 서민들이 불쌍하다. 전세 기간 및 전세 금액 상한 한도를 법으로 규제한다고 하니, 강남 부동산 중개업소들은 정부를 조롱하는 듯 기존 전세 금액을 찍찍 지우고 거기에 2자를 더 붙여서 내걸고 있었다. 실거주가 아니면 아파트 가격도 강력하게 규제해야한다. 부동산 중개업소의 자격을 모두 몰수하고 인터넷에서 직거래 하도록 만들어라. 대한민국 기성세대 반성해라. 투기꾼들은 하야하라.\"\\n', '18,중국인이 매수했다 매도 한 것 같습니다!피해는 적게는 송도지만 크게보면 대한민국 아파트 가격을 좌지우지하는 중국인입니다! 그 중심는 제주도 중국인 투자 유치로 주택가격 말아먹은 제주도지사 였던 원장관이 존재하고요! 외국인 특히 중국인 투자세력부터 막아야 이렇게 큰 폭의 가격 등락은 없을것 같습니다\\n', '19,1~2억대에서 수십억을 올린걸 아는데 누가살까 ? 투기꾼만을위한 가격들 . 보다보다 첨본 거품대폭등들. 팍 내려라\\n', '20,6억? 가족거래 했냐? 가봐라 못산다\\n', '21,언론들아 서민입장에서는 집값 떨어지는게 정상아니니? 집값오를때는 그렇게 정부욕하더니...너희들이 이중적 행태에 분노한다\\n', '22,송도는 그냥 4억이어야함 뭐 그딴 외진곳이 ㅋㅋㅋ평촌의왕 3.5억. 인천 3억. 김포 2.5~3억. 분당3~4억 하남 3억 등. 죄다 개거품뿐.\\n', '23,집값이란 공무원 봉급기준으로 5년 정도 알뜰이 모아 살 정도여야한다 미처 날뛰는 투기꾼들 이젠 고개 숙일 때도 되었자나\\n', '24,아직도 반 더 떨어져야된다. 5년전 가격으로 가려면 멀었다. 5년 사이에 집값이 3배이상 뛴다는게 말이되냐???\\n', '25,집값 정상화 되고 있어요..더 떨어져야 해요\\n', '26,송도 주민들 어깨 힘 좀 빼길… 누가보면 강남 사는줄\\n', '27,아직도비싼거다..\\n', '28,떨어지는게 당연하다.집으로 인생 뻥튀기 하려는 사람들때문에갈수록 집이 징그럽다.\\n', '29,정확히 내다보는 기사네 ~어떤 기자놈들은 아직도 청약 서두르라고 광고 하던만\\n', '30,\"높은 가격에 구입하신 분들은... 그 판단의 근거가 당장 꼭 필요했거나(매우 극 소수), 더 오를 것이라는 투기 목적일텐데. 근거와 분석 없는 투기는 현 상황을 부르죠. 말도 안되게 높은 집 값... 현시점에서 1/4는 더 내려야 사겠다는 사람이 줄을 섰습니다. 옳은 방향으로 경제가 흐르고 있네요. 참 신기. (내린다고 울상인 투기꾼들은... 짖지마시길. 그정도 리스크는 알고 한 것 아닌가.)\"\\n', '31,아니 인천에서도 구석에 많이 쳐박혀 있는 곳을 3억 이상 주고 산다는 자체가 이해가 안갔음.그리고 저번에 뉴스에 나왔잖아여 중국 부호 들이 왕창 올려 놨다고 정신차리고 탈출하세요 좋은 입지도 아니고 도망이 답입니다\\n', '32,\"부동산 매매율도 반토막이니.. 떨어져도 파는 사람도 없고, 사는 사람도 없는게 무슨 의미가 있나싶다.\"\\n', '33,집값이 반토막이 아니고 점점 정상가격으로 가고 있는중.아직 멀었다. 거품이 더 빠져야한다.평당 분양가가 2천만원이 넘는데 이게 말이되냐?\\n', '34,반토막도 되게 비싼겁니다. 사람이 살기 불가능한곳에 집 지어눟고 10억에서 5억되면 그게 어떻게 반값인가요... 아직도 2배 오른겁니다. 송도는 냉장하게 32평 2억이 맞아요\\n', '35,송도 그 고립된 섬 같은 곳을 왜 들어가서 왜????? 이제 송도 거지들 속출 할 듯... ㅉㅉㅉ\\n', '36,\"송도 2-3억, 마곡 1-2억, 하남 2-3억, 천호 1-2억 위례 2-2.5억 등등 이게 딱 답이다 무슨 되도 않는 10억이야ㅋㅋㅋㅋ 그지같은 동네들이ㅋㅋㅋ\"\\n', '37,뭐 아직 멀엇구만~ 송도가 무슨 12억. 5억 하면 되지\\n', '38,인천 구석에 박힌 송도가 뭔 12억이라는게ㅋㅋㅋ 거품 더 빠져야됨 3~4억이 적당하다\\n', '39,어디 되도 않되는 동네 집값이 10억이 넘는게 말이나되냐?\\n', '40,송도는 3억이 적정수준이지\\n', '41,솔직히 송도가 사람 살수있는 동네나 되냐? 바닷가에 초고층건물 몇동 세워놓고 어거지로 신도심을 만든거지ᆢ거기서 서울 출퇴근 가능하기나 한가?? 처음 송도개발할때 초고층건물만 올려놨지 입주자가 없어서 유령도시란 별명도 붙었을까?~~~\\n', '42,뉴스에서 반토막 났다고 막상 찾아보면 그 가격에 나온 매물이 없음\\n', '43,거품 빠지는. 좋은 나라..우리 나라.\\n', '44,분양가보다 더 떨어져라 그래야 분양가도 내려간다\\n', '45,송도아파트 1억에 사드립니다..\\n', '46,추락이라 쓰고 정상화라 읽는다. 거품 빠지는 건 당연한 현상이야\\n', '47,내일은 더 싸다\\n', '48,\"물량부족으로 가격 폭등한다고 떠들어대던 보수찌라시들아, 아파트가 하늘에서 뚝 떨어져서 가격이 폭락하는거니?\"\\n', '49,\"부동산 경제가 5년 전 원래 정상가격으로 회복 되는중, 살맛나는 주택 부동산 투기 없는 세상 만들자.\"\\n', '50,급락 반토막이 아니구 원래가격을 찿아가는거란다\\n', '51,더 떨어져야함 거품이 심함 오른걸 생각해야지\\n', '52,송도는 평당 800 만이 합리적인 가격이다\\n', '53,아~ 광규형 집사니 떨어지네 ㅜㅜ\\n', '54,32평 6억도 아직 비싸요. 3억 정도가 적당한듯 호둘갑 떨지 마시요\\n', '55,\"먼씨가 정치를 개판으로 해서, 소주성 어쩌고, 하면서, 민노총의 개가 되어서, 민노총의 패악질을 방치하고, 사업하는 사람들을 악으로 봐서, 근파라치 등을 통해서 너무 괴롭히는 바람에 돈이 사업으로 안 가고, 부동산으로 가버려서, 폭등한 거지... 원인은 문씨다. 무려 2배 이상 올려버렸는데, 지금 가격의 반으로 떨어져야 정상이다. 이 가격을 다 주고 집을 사는 사람은 바보일 뿐이지.\"\\n', '56,그 평수가 12억이었다니 그게 비정상.6억도 솔직히 비싸다.\\n', '57,\"고양시 네이버부동산 매믈은 올라온거는 하나도 안떨어졌던데 뭘보고 떨어졌다고 난린지..아직도 개거품가로 그대로 올라가있는거 조사 좀 해보시지..아직 부동산 안정,정상화는 시작도 안된 듯\"\\n', '58,12억에 산사람은 무슨 기분일까?\\n', '59,문통때부터 집사지 말하고 떨어진다고 그렇게 말했다! 전부 투기 세력이라고!\\n', '60,폭락이들 난리나네.증여야이 바보들아\\n', '61,송도는 3억이 적정가다 직장도 인천이고!서울과 너무 멀다 비오면 물에 잠기고~~~~\\n', '62,아직 멀었다~ 반에 반토막이 적정가야~^^\\n', '63,\"짜장면값, 버스비 내리는것 봤냐....코로나, 우크 전쟁, 중국 봉쇄등 복합적으로 맞물려 우하향하는것이지, 언젠가는 다시 오른다. 이미 IMF, 리먼사태때 겪어봤자나. 다만 서울 수도권 인접은 상관 없지만, 지방은 빨리 떠나는게 답이다.\"\\n', '64,인천 2억5천에서 3억이 정상가\\n', '65,송도는 첨부터 그 가격이 말이 안되었음\\n', '66,제대로 찾아가는데 걍 거품 빠지고 있는데 대출많이 받고 집산 서민들에게는 안타까운 사정이지만.그만큼 집값을 정부가 다 올려놓은거임.\\n', '67,큰일났네.이제 계약기간 끝나고 이사가는 시기 내년 가을 정도면 경매 우후죽순 나겄어.자살자들도 수두룩 나오것고.파산선고도 말도 못하겠네.집값때이는 세입자에 우짜노?\\n', '68,기레기들이 집값 올리고 이제는 반값 이라니.\\n', '69,문정부 이전으로 가야\\n', '70,송도 84 일반적으로 4억대면 입지적으로 충분한데 몇년간 말도안되게 올랐던거지\\n', '71,84m2(25평)대가 12억 이게말이돼아직멀었다 2~3억대가 적당할듯이참에 집가지고장난친놈들 패가망신돼야함쭈우욱 더 떨어지길학수고대함~\\n', '72,송도 3억대가 적정가다\\n', '73,6억...아직도 비싸네.. 서민들이 살수 있는 가격대까지 내려 와야 다시 올라감. .\\n', '74,기자님아 더내려야하는데 먼소리야\\n', '75,말도안되게 올랐으니 말도 안되게 떨어져야지\\n', '76,집값쳐올려 무주택자의 희망을뺏고 고통속에 살게하더니 이젠 그집값이 빠져나가니 영끌족들과 어깨부분에 산 일반주택자들도 고통속에 살겠네 힛팔moon재인\\n', '77,송도는 4억이면 딱이다. 6억도 높다\\n', '78,2억 8500 되면 정상이에으 기자님^^5년동안 미쳐날뛴거죠...ㅋㅋㅋ\\n', '79,집투기 땅투기는 망해야 한다 .앞으로 100년은 하락 해야 한다.그래야 투기가 사라진다.\\n', '80,아직 한참 더 떨어져야함\\n', '81,송도 국평이 4억원대에 거래됐던데.실제로 5억대 매물도 상당수\\n', '82,더 떨어 져야 합니다.지극히 정상으로 돌아가는 중 입니다.\\n', '83,이게정상아닌가\\n', '84,좌파는 집값을 미친듯 올려서 몰락한거다. 집값 내린 우파 정권 포에버!\\n', '85,축하!축하! 윤석렬정책 대성공! 집값때문에 대통령되었잖아. 집값때문에 흥한자 집값때문에 망한다! 세상이치아닌가!\\n', '86,성냥갑 같은 집이 6억이라는게.. 반토막 더나도 비싼거다\\n', '87,\"삶의 터전, 발판이 되어야 할 집이 투기의 1순위가 되버렸으니 이건 이미 예견된 추락...영끌한 젊은이들만 안타깝게 돼었다...\"\\n', '88,5년전 가격이 합리적인 가격이다 . 반토막 으로 유혹 할 생가 하지 말아라\\n', '89,아직도비싸~오른건계산안하냐.기자야\\n', '90,아직도분양가 보다 높다~3년후 보자\\n', '91,미세한 거품이지!!! 많은 거품은 아직도 엄청나다!!\\n', '92,12억 산놈 뒷목 잡겠네! 하필 투기 종착역에서 담다니! 지지리도 운도 없네 그려! ㅋㅋ\\n', '93,반토막 ㅎ 더떨어진다 그리고 진짜 지옥은 내년이야 준공예정 물량이 전국에 쏟아진다\\n', '94,2017년 기준 가격에서 반토막이라면 이해 한다. 문재앙의 부동산 정책 실패로 광기어린 가격의 반토막이면 아직 한참 더 떨어져야 정상에 가까울까..\\n', '95,\"송도는 2찍 동네라서,,,,,,,,,,,다들 반가운 소식일듯,,\"\\n', '96,\"ㅋ ㅋ 서울 아파트는 작년대비 34평이 겨우 1 억 떨어져 강남은 아직도 22억, 강북도 14억이다 지방사는 사람만 다죽는거다 강남이 8억,강북이 6억 될때까지 국민 모두 지켜봅시다\"\\n', '97,윤 찍어 많이 행복 하십니까?\\n', '98,아니 집값이 얼마나 떨어졌길래 난리냐? 5년전비하면 아직도 오른 상태인데 왜 그러지? 그동안 폭등한건 생각안하나? 참 사람 마음이 간사하기는\\n', '99,폭락이들 모하고있다가 다 뛰쳐나왔네\\n', '100,팩트는 고점대비 반토막이란건데. 분양가대비 4배오른게 고점이면 현재반토막이라 해봤자 분양가대비 2배오른 가격이니 긍정적으로 생각하고 살면됩니다. 더는안빠지니깐요\\n', '101,세상이 미처돌아가는거지 어떻게 수도권아파트가 평당 5천만원이 말이되냐\\n', '102,아직도 비싸다.뭐 추락인지...\\n', '103,ㅋㅋ 급급매와 증여 일뿐이다....니들이 사려하면 그 가격대 매물없다...\\n', '104,반토막이 아니라 정상화 되고있는듯요ㆍ문정권때 집값올려 세금 걷고 ᆢ투기한거같아요ᆢ ㅠㅠ\\n', '105,아직도 더떨어져야한다 다거품이다 50%는 더떨어져도 비싼거다\\n', '106,거품이 빠지고 2억5천~3억원 정상적으로 보아야 한다. 그때까지 지켜 봅시다.\\n', '107,\"겨우 1%떨어진게 급락이냐? 민주당이 정권을 잡을때마다 집값이 폭등한다. 문재인5년은 최악이었다. 서민, 청년들 집사는거 포기했고 그래서 결혼도 안하니 출산울 0.86으로 전세계 꼴찌다. 이러니 나라가 잘 될 턱이 있나,\"\\n', '108,송도 완전 거품이었지 투기꾼들로.. 지금 전세 넘쳐 흐른다\\n', '109,송도는 1억이 적정가다\\n', '110,송도는 거의 정상화에 가까워지고있다 .아직 조금은 더 떨어져야하지만 거의 다왔다.문정권 초반 5억대였는데 작년 11억까지갔다가 지금 6-7억대다. 한 1억 더 떨어지면 정상화되는거다\\n', '111,집값 오른다고 난리더니 왜 내려와서 좋아야하는거 아니가?\\n', '112,지금의 반값이되야 집사지 호구냐 이가격에\\n', '113,\"오른 것, 내린 것 더하기 빼기 해라!내린 것 말고 그동안 올랐던 것도 포함해서..\"\\n', '114,\"2024년 10월까지는,,, 집값 빠진다!~~그때가 매수 타이밍! 끝ㆍ\"\\n', '115,빌라도 많이 떨어지더라\\n', '116,반값은 아니다 분양가 보다 올라 있는데\\n', '117,집값 하락과 무당 찍은 2찍 이들 지지율 하락과 일맥상통????\\n', '118,집값 정상화과정\\n', '119,떽. 4배 올라서 이제 한배 떨어졌는데 무슨 끝없는 추락이여~ 지금의 삼분의 일이 제대로 된 가격이고~ 거기서 감가상각을 또 해야 한다.\\n', '120,건물은 필연적으로 노화되고 이 후에 출생하는 아이들이 없어 관리 유지도 어려운 아파트를 누가 살까? 이제 얼마 인남았다 30년 정도 지나면 대부분 아파트들 똥값된다.\\n', '121,그래도 분양가보다 높다. 폭락의 공포를 경험한 세대는 이제주택매매에 소극적일수밖에 없다.. 거품이 기회일줄 알았지만 거품이 늪이된것이다. 금리는 트리거일뿐인다..\\n', '122,속출???…..매일 울궈먹는 송도아파트 한채 싸게 팔린거 말고….반값된 아파트 2개만 올려봐봐….\\n', '123,이러다 전국어디든 반토막 날듯\\n', '124,문재인 전 경기도 4억 5억짜리가 아직도 호가 9억 10억이다~십억이 장난같던 지난날 ㅡㅡㅋ\\n', '125,25평 아파트. 2억원이 적당하다.아직 더 빠져야 한다. 재개발 재건축 2024년 이후에 착공하는게 맞다.\\n', '126,아직멀었다.더 내리라\\n', '127,무슨소리인지. 천안 와보세요. 34평 10억 입니다.\\n', '128,모든 완제품은 시간이 지나면 가격이 떨어지는게 당연한거지 아파트가 모나리자처럼 예술품이라도 되는줄아냐? 그냥 거대한 닭장일 뿐이다\\n', '129,실제는 별내리지도 않았는데\\n', '130,시흥시 은계는 왜 반으로 떨어지지 않을까요? 35평형 고점에서 50%떨어져서 3억5천만원 정도가 적당 합니다. 집 안사고 버티다보면 3억원 까지 떨에졌쓰면 좋겠다.\\n', '131,송도는 원래 거퓸이였음\\n', '132,집으로 돈벌이 하려다 망한건 걱정할거 없음. 쌤통이니\\n', '133,5배 오르고 반토막 난거아님?\\n', '134,기자양반 웃기네.금리인상?경기침체?2찍놈들 말하길 윤석렬이가 잘해서 집값 잡았다던데 뭔 소리?집 가진 양반들아 윤석렬 찍은거 참~잘한거 같네 윤석렬이한테 감사하며 사세요 ㅋㅋㅋㅋㅋ\\n', '135,엄살은 3억대가 적당하다\\n', '136,기자님아 반토막이 아니라 원래 가격으로 돌아가고 있다고 써야하는게 맞다고 생각 안드니??\\n', '137,차도 사면 가격 떨어지는데집도 당연이 하락이 원칙이지시설물 노화되는데\\n', '138,이제정상으로 가는구나\\n', '139,부동산 문짝에 붙여놓는 가격이 반토막나야 반토막이지\\n', '140,\"\"\"추락\"\" 이라는 말 언론에서는 쓰지맙시다 제발~~더더더 내려가야죠 집은집으로만 존재해야죠 젊은이들이 살기를 바랍니다\"\\n', '141,추락은 무슨.. 제자리로 돌아가고 있는거지\\n', '142,오른게 얼만데 조금내렸다고 호들갑\\n', '143,반토막? 지금시점의 반토막이 적정가다~ㅋ\\n', '144,1%는 모고 반토막은 모냐?\\n', '145,저기서도 반 떨어져야 정상인데 광고인가?\\n', '146,2억5천 정도면 살게요\\n', '147,16강소식에 더 좋은 소식들 ㅋㅋ\\n', '148,아직 멀었다ㅜ떨어질려면 .그리고 뉴스서 집대출로 죽었단 뉴스가 도배되야 그때부터 집.살 준비하는거다\\n', '149,인천 아파트 5억은 더 떨어져야 한다~\\n', '150,거기서 절반 더 떨어져야한다\\n', '151,인천 집은 코인같네. 특히 송도\\n', '152,송도는 4억대가 정상가~좀더 떨어져야 한다\\n', '153,\"제자리 찾아가는 중인데, 뭐가 문제인지..쭉쭉 더 내려가자~\"\\n', '154,반토막 폭락이전에 두세배 폭등이 있었던거죠.. 10~20프로 상승도 큰건데..이건 뭐 세 배 일케 올랐으니 내릴 때도 반토막 70프로 빠져야 정상이죠.정상화 되는 과정입니다\\n', '155,12억에 집 산 사람들은 우야노...또 오를때까지 그냥 살면 되겠나?대출 받았다면 이자도 만만찮을텐데\\n', '156,호들갑 떨지마세요 시작도 안했습니다 지방은 아직입니다\\n', '157,\"강남에 살 필요 없다더니 정작 지는 강남에 살았던 인간, 남들 보고 서울 집 팔라더니 정작 지는 서울 대신 청주 집 팔았던 인간, 장관 보다 부동산이지 하면서 장관을 사퇴 했던 인간.. 공통점 뭔지 알지?\"\\n', '158,돈있음 사고싶다.....\\n', '159,집은 삶의 터전이 되야지 투기의 대상이 되면 안되는것임 투기꾼들이 잘사는 세상이 되면ㅈ안될것임 힘들게 집장만한 젊은이들한테 피해가 가지 말아야할텐데 걱정이 됩니다\\n', '160,아직 멀었다고요여기저기 곡소리....\\n', '161,집값 미친듯이 오르기 전 고정금리로 실거주 아파트 구매한 내가 승자~\\n', '162,반토막 외 최고 올른가격으러 말을 해 지금 팔아도 손해 안보는 가격이구만 지금도 분양가보다 높은데 분양가반 떨어 지면 그때 반이라해라\\n', '163,아직 멀었다. 산이 높으면 골도 깊은 법.\\n', '164,\"집값은떨어져도문제올라가도문제이다,물가는1%내외로오르고내리고해야정상이다,주택가격이너무떨어져도올라도경제에는그리달값지않다,\"\\n', '165,그래도 비싸다 더떨어져야 투기대상에서 제외된다.\\n', '166,\"이러니 기레기 소리듣지 얼마나 올랐는데 현재 얼마,,떨어징으로 적어아지 부자들 대변자냐\"\\n', '167,저 아파트는 조합원아파트 아니었나? 8공구 끝자락 아무것도 없고 바다뷰만 있고 해무몰려오면 젤 먼저 맞이하는. 저거 지었던 포스코 아빠가 그랬지. 저건 사는거 아니라고.\\n', '168,이제 시작이지 않는가??\\n', '169,문재인의 부동산 정책은 대단 했네...ㅋㅋ\\n', '170,광규형 ㅜㅜ\\n', '171,아직 더 떨어져야된다\\n', '172,3-4억짜리 6억에ㅜ팔았으면 호구 잡았네 ㅍㅎㅎ\\n', '173,아직도 많이 오른 상태 아닌가? 지금 구입해도 상투로 보이는데.\\n', '174,자꾸 부동산을 투기세력이 좌지우지 하는거 처럼 말을 하는사람이 있는데 그건 잘못 생각하는거임. 분명 나쁜 투기 세력이 있지만 전체를 흔들수는 없음. 우리나라는 부동산이 필수재와 투기재의 성격을 가지고 있음. 국민 누구나 어느정도 투기성을 가지고 필수재를 구입함. 분양 당첨이나 전매 그리고 프리미엄 붙여서 거래되는 것이 모두 투기세력이 하는게 아니고 일반 국민들이 하고 있는것임. 모든게 제로가 되버린 전쟁의 역사가 있기에 국민 모두 집 한체의 열망이 강함. 누구의 탓이 아니고 대한민국의 국민이 바라보는 부동산이 그러함.\\n', '175,집한채로 조용히 살면 오르거나 내릴거나 변동도 별로없을텐데. 한개인이 부동산에 올인해서 몇채.수십.수백채 보유하니까. 이상한현상이 나타난것아닌지.. 가진만큼 증세를해야.\\n', '176,대출내서 아파트 무리해서 사서 두배씩 올랐다고 자랑에 부러워하던사람들은 맘편하겠다.\\n', '177,폭락이 아니라 원래대로 가는거지...내리는게 당연한거 아님??? 코로나로 부족한세금 재산세로 메꿨는데\\n', '178,교육받으러 갔는데 강사가 우리나라에서 송도가 추후 온난화로 수위 상승하면 1차적으로 제일먼저...........\\n', '179,거품거품 정상화.\\n', '180,호들갑들을 통해 다시 올려볼려고 매스컴들 애쓴다 이나라사람이면 다알껄 오른거에 비해 반도 안내려 왓다는걸 ..지금도 엄청난 투자수익보고 있는 세력들이 널렸을거다 시멘트집이 기본평수 5~6억이상 이 말이되냐?투기아니면\\n', '181,\"재탕 삼탕,,,언제적뉴스가 지금나오는겨\"\\n', '182,정상화 되려면 아직 멀었다\\n', '183,왜 언론이 계속 몸달아하나요? 두세배오를땐 뭐하시고! 광고주 위에 국민 있다는 것 잊지마시길!\\n', '184,인구가 계속 늘었고(특히 20~30대 경제인구)SNS는 개뿔 채널3개있는 20인치 브라운관 TV보면서 아이둘셋 키우는 소소한재미 와 평수 넓혀가는데 올인한 세대가 지금은 수능인구 80만에서 40만으로 20대 경제인구가 반토막 그리고 실제 인구감소로 전환무엇보다 대기수요자들인 20~30대들의 결혼관의 변화등흠~\\n', '185,후대를위해그게 맟다이젠 실거주 목적 투기 p는 없어야해\\n', '186,\"반값이랜다ㅋㅋ 이거 사기꾼들이 정말 많이 쓰는 수법아냐ㅋㅋ 판매가 5천원짜리를 6만원으로 적어놓고, 자~ 여러분 사장님이 미쳤어요!!!!! 반의 반값도 안되는!!! 만원에 그냥 가져가세요~ 골라골라ㅋㅋㅋㅋㅋ 실제 시중에 90% 할인도 많음ㅎ\"\\n', '187,5년동안 6억이던게 20억 되었다가 지금 13억된건데\\n', '188,그동안 수도권 저기 지역들 다 거품이였다는거…거품 빠질곳들이 제일 많이 빠지는거지~ 당연히~\\n', '189,이게 정상인걸 왜?.참 부동산문제많다. 정상으로 돌아가려면 멀었다. 더떨어져도 된다\\n', '190,\"감사합니다..다만, 아직 멀었습니다..\"\\n', '191,당연하지 많이 떨어져야지 한국이파트는 다 거품이야\\n', '192,반토막 정권\\n', '193,더 떨어져야 정상아님?\\n', '194,내년 하반기 경매물건 많이 나옵니다. 모르는 분은 경매공부하고 계셨다가 지금 가격 반값에 낙찰 받으세요.\\n', '195,반토막에 반더 추가여 ㅋ\\n', '196,송도 분양가 기준이면 아직도 높은듯 3억대 초반 이억대 반 기억나는데\\n', '197,문재앙이 올려놔서 그때 산 사람들 불쌍해서 어쩌나..\\n', '198,정상화 되는중... 윤정부 이거하나만 맘에듦.\\n', '199,집 사지 말라는 문통님의 말을 안 듣고 오기를 부려서 집을 산 2찍이들의 최후\\n', '200,윤정부가 집값을 잡네..... 더 노력 해주세요.\\n', '201,평택은 끄떡 없음 삼성이 지켜줌 분양가 5억2천에도 줄섬 노옵션 확장하면 6억 ㅎㅎㅎ 그래도 줄섬\\n', '202,돈이 최고 ^^\\n', '203,주택가격은 최초 분양가가 가장고가고 시간이지나면 계속 떨어져랴됩니다 그러면 고분양은 없어지고 주택으로 투자나 투기는 안생깁니다 그리고 시간이지나서 주택수명다하면 외국처럼 철거비용물리고 가격은 마이너스 몇천되게해랴됩니다 그래야 거주목적됩니다 토왜쇄키들이 방해하지만 집값의 끝없는 추락만이 국민들에게 포상입니다\\n', '204,저걸 일반인들은 믿는다는거지.반토막거래는 가조거래입니다.호가로 15%정도 하락한게 팩트.하락기조는 맞아요.\\n', '205,수꼴들 전정부에서 세계적 저금리로 전세계가 집값 폭등하고 정부에서 집사면 후회한다고 몇번이나 경고하고 비트코인도 규제한다고하니 개거품 물더니 비트코인 옹호하던 현수꼴정부 과학 비트코인 꼴좋다\\n', '206,부동산이든 주식이든 고점에 빚을내서 구매한사람들이 문제지. 잔뜩쥐고있는것들이야 현금동원해 이상황에서도 줍줍하고있을거야. 일확천금을 노리면 벼락거지는 따논당상이야. 그냥 빚없이 소소하게 작은행복추구하면서 스트레스없이 사는것이 현자의 일생일세.\\n', '207,평생 벌어서 건설사만 배불리는 나라는 비정상 아닌가요?\\n', '208,\"목포상동 주공아파트는 평수는 작지만 3천에서4천만원이면 골라서 산다, 교통에 최고 요지이고 시외버스터미널과 종합병원이 2개나 있는 국도1호선 출발지다, 단점은 12평대와15평대로 대체로 작은 아파트고 지은지가 오래되였지만 사람살기는 아주좋은 위치라 장점으로 커버할수있는 곳이다, 서울집값은 허풍선이고 삼토막이 정상인것이다,\"\\n', '209,서울수도권에서 2찍하신분들 행복하시겠어요. 윤재앙파이팅!!\\n', '210,좌파 정권 쫓아내니 부동산 폭락하는거 보소~ 문재앙이 5년간 뭔 짓을 해도 못학던걸 고작 반년도 안되어 반토막 만드네 ㅋㅋㅋ\\n', '211,넘걱정마세요 4년5개월후에는 집값올라갑니다\\n', '212,윤석열 만세\\n', '213,2대남 쓸데 없는 것들이문정권이 집값 많이 오르게 했다고열심히 찍어대더니 행복하니?왜 집값이 떨어질까?그러면 너희들의 장래는 장미빛으로 변할거 같니?에구야....이미 너희들 청년일자리 등 예산은 다 없어졌어.열심히 찍어대고 열심히 당해야지.\\n', '214,\"문치매와 멍청한 김현미가 부동산 개판만들었지,, 개미만 피박쓰고,,,어쩌나,,그래도 나는 조국이다 외치는데,,,,\"\\n', '215,바보들 3년후에 위치좋은데는 다시 오른다.\\n', '216,송도는 3억이면 충분하지\\n', '217,뭘속출해 멀쩡하구만 가짜뉴스 선동뉴스\\n', '218,이게 정상화다....그저 부동산 값에 집착하는 가 용산 고기집을 만들었다\\n', '219,타이밍이네.. 하나 담으러 가야지.. 언론이 때릴때는 뭐다??\\n', '220,문재앙 극혐하지만 다주택자 때려잡으려고한 취지는 인정한다 그런데 어쩌겟나 인간의욕심은 끝이없는걸\\n', '221,윤씨 덕좀 보자.?. 닭장집 90% 대폭락 가즈아~\\n', '222,아직 시작도 안했다..지금보다 80%는 더 빠져야함\\n', '223,좋은소식인데 뭔문제\\n', '224,예전에는 집값비싸서 집못사고 요즘은 금리인상해서 집 못사고.. 거기서 거기인건 맞음.. 잇는 사람만 돈늘어나고 없는 사람은 비명을 지르는..\\n', '225,그동안 집값이 비정상적으로 많이 올랐던거지윤이 잘하고 있는거임\\n', '226,아직 시작도 안했다~!!!끝이 보이지 않는 터널에 초입이다~!!!앞으로 4~5년은 집값이 계속 내려 간다~!!!그 때까지 버틸수 있으면 팔지 말고 기다려 보던가~ㅋㅋㅋㅋㅋ~~~~~!\\n', '227,그래봤자 인천\\n', '228,집이 주거 목적이되야지....분양가이하가되야됨...10년된게어케 분양가보다 비씨냥...이상한 나라\\n', '229,집값이 떨어진 이유는 지금까지 주거목적이 아닌 투기목적이였다는 것과 그 동안은 거품이였다는 증거가 아닐까요. 거품이 다 꺼지면 원래 집값이 보이겠죠. 문정부 때 어느 국토부장관의 말이 생각이 나네요. 청약하지 말고 영끌해라...그렇게 영끌해서 집산 사람들 어떤 피해를 겪고 있는지 과연 그 자는 생각이라는 걸 하고 있는 걸까?\\n', '230,뭐시라? 85제곱이 12억?ㅋㅋ 반토막나서 6억? ㅋㅋ어이가 없네 ㅋㅋ 아직멀었다\\n', '231,아파트는 지금보다 70% 이상 폭락해서 아파트 가지고 떼돈 번 인간들 떨거지 만드는 그날까지 쭉~ 떨어졌으면 좋겠다 ~ 잉\\n', '232,전용면적 84㎡가 지난 12억에서6억에 매매우리집 같은데 2014년에 분양가 2.7억 이었죠집이 한채라 빠지던 오르던 살집인데관심 갖지 아세요\\n', '233,마리나베이 비오션 오션 갭이 3억인데ㅋ\\n', '234,집값의 거품 아직도 차고 넘친다\\n', '235,일가구 이주택 허용해야지. 인구도줄고 그렇다고해서 중공군들에게 집을 넘길순 없지않겠나\\n', '236,반값은 시작임. 이제 기업들 못버티고 구조조정하면 대량 실업자 터지고 실업자들중 영끌족들 못버텨 물량 터지면 끝임.\\n', '237,\"미친 집값의 3대 특등 공신-문재인, 김현미, 김수현\"\\n', '238,아직 갈길이 멀다! 미친 집값이 정상화될때 까진...\\n', '239,광규형 어떡해ㅜㅜ\\n', '240,이제시작이다\\n', '241,사기치네 외국인들 떠나서 그런거지 바보들\\n', '242,\"건설사, 부동산 업자, 맘까페, 언론사들이 그동안 쌓아올린 집값에 반토막난 지금의 대한민국 보기에 어때? 예전 거리마다 북적대던 사람들은 온대간대 없고 하나 겨우 태어나 살아가는 자녀들도 부모 죽으면 대부분 세상에 홀로 남겨 질텐데. 인간의 욕심 때문에 유치원, 초등학교, 중학교, 고등학교, 대학들 마져 사라져가고. 그 반토막난 인구가 이제 집구할 시기가 되고 그 사람들 주머니 서로 차지하겠다고 피튀기게 경쟁하는 사회가 됐다. 돈이 뭐라고 사람을 죽게 만드는 세상을 만들어. 지금에 세계적인 문화 강국이 무슨 소용이냐고 이제 그만해\"\\n', '243,56년 만에 내집 마련한 우리 광규형 어떡해\\n', '244,4억대이 정상가다\\n', '245,야 미친 문통때 전국적으로 2년사이에 얼마나 올냤냐 더 털어져야 정상이지 규제도 풀어서는 안되는데 돌멩이들이 경제가 어렵다고 풀어주니 투기꾼들이 머리 굴려 돈벌지 그리고 이런기사 쓰지마라 너는 집값이 정상이라고 생각하냐\\n', '246,지금에 반토막이 정상가다\\n', '247,김광규씨우째 ㅜㅜ\\n', '248,증여같은데?\\n', '249,부동산 떨어지면 세금\\n', '250,박원갑 저런사람 전문가라고 믿지 마세요저런 전문가란 사람들 어차피 자본가들의 끄나플입니다\\n', '251,\"이추세로 부동산거품 연착륙 된다면 천우신조, 축복이다 , , , 이런추세로 향후 2년여에 걸처 부동산거품 을 걷어낸다면 제2의 IMF 를 피할수 있지 않을까 , , ,\"\\n', '252,작년에 12억에 판사람과 12억에 산사람~\\n', '253,1억 5천이 적정선\\n', '254,\"자업자득이다 ! 2찍들 ㅛ 집값도 성장이 받쳐줘야 오르던 버티던 하지 우민들 ㅡ.ㅡ 굥은 무능 무지 무식에 포악하기 하다 ㅛ , 문정부때 코로나 대처 얼마나 잘 했냐 ? 다른 선진국은 정부가 민간에 얼마나 풀었는데 우린 최소한의 예방 치료에만 썼고 피해에 대한 보상은 외국 선진국 비해 매우 적게 썼다 ! 그때 야당(국짐,기득권들로 인해) ㅡ...ㅡ\"\\n', '255,이부망천이라고했다 인천은 거지들의 도시 청라 검단 송도는 원래 사람살곳이 아니다\\n', '256,누가 부동산에 몰빵하라고 칼들고 협박함?? 이게 기사로 나와야 하는 이유가 있음??\\n', '257,이제 금방 인구가 점점 더 줄어 드는데...집이 남아 돌아 돌고 돌아~~~ 집 가지고 뻥티기 하던 시대는 끝났따~~~~어서 빨리 손절하고~~~ 똑똑한 한 채만 잘 지키자!!!!!\\n', '258,거품3대장 송도 청라 검단\\n', '259,문제인때 오른거알제?그때 팔걸ㅠㅠ\\n', '260,요즘 안성탕면 왜이르케 세일 안하냐\\n', '261,1기신도시가잘버티고있다\\n', '262,\"송도의 가장큰 단점은 일자리부족이다. 공항가깝고 공원많고 상권 좋아져도 주변에 대규모 업무, 산업시설이 없기때문에 수요자 찾기가 어려운것이다. 예를들면 난 이지역 사람은 아니지만 평택 고덕과 지제역주변은 삼성이 앞으로 십년간 반도체공장을 계속 증설할것이기 때문에 매수세가 있는것이다. 부동산 수요는 일자리가 가장 큰 역할을 한다.\"\\n', '263,오를 때도 걱정하고 내릴 때도 걱정할거면 그냥 부동산 가격을 고정화해라....자본주의시장경제에서 오르락 내리락하는건데 뭐 그리 시끄러운지....오를 때는 난리법석으로 빨리 사라고 부추기더만\\n', '264,울나라 월급르로 살수있나??\\n', '265,집가지고 으시대던시대가 끝나나보다....ㅋㅋㅋㅋㅋ\\n', '266,송도 정말 떨어지고 있나?ㅇ\\n', '267,고점 대비란 말은 아직도 멀었다는뜻..\\n', '268,강남 용산만 살아남을듯 나머지는 그냥 일본처럼.\\n', '269,떨어지는게 아니고 원가격 찾아가는거다. 집가지고 뻥튀기 해서 돈벌던 인간들 반성해라. 댁들때문에 말도안되는 가격이 되었으니까.\\n', '270,\"이제 시작인데 엄살은, 마이무따 아이가~\"\\n', '271,뭐래? 주공이나 부영이파트 상대로 조사했나?\\n', '272,반값은.증여겠지\\n', '273,3억도 넘친다.먼 헛소릴\\n', '274,진정한 진보는 보수였던거냐 수꼴보수 안되겠네\\n', '275,차는 10년된 중고차 새차기준 10%집은 10년후 2배 인상정치.경제권.사회적이권세력의 약속된 대국민 상대 부추김.집값.부동산가격이 현재보다 최소 20분의 1이하로하락해야 경제가 제대로 돌아가며인구폭락 사태방지.건강한 젊은 세대가 왕성하게 산업인력으로 성장할수 있으며부동산에 모여진 경제구조로 기형적 자본주의를 타파하지 않으면 부동산 거품경제 폭락으로 나라가 휘청일수 있으며 주거환경이나 도로 여건.생활여건이 훌륭한 취락지구로 인구가 모여들어 퇴보된 주거지는 계속 인구 감소.인프라 이탈.심각한 상황이 다가 온다.\\n', '276,기사보니 송도에집산 광규형이생각나네..진짜안풀리네 그양반\\n', '277,이유없이 오른곳은 떨어져야지... 금값오르니까 은값 오르냐ㅠㅠ.: 부동산업자들 다들 죄짓는거지\\n', '278,집 못사서 배아파했던 거지들 이제 이렇게 가계부채 터지면 니들 회사에서 잘리고 길거리 나앉을 건데 좋다고 신나하는 거 보면 어이가 없다.\\n', '279,기자양반 다른기사좀써주셔 할 기사가읍나? 집을 많이사신모양? 떨어질땐 왜그런지\\n', \"280,아무것도 안해도 떨어지는 집값'문재인 때문에' 집값 올랐다는 분들 지금의 세계 경제 흐름이랑 비교해서 뭐가 문제였는지 논리적인 설명좀요^^\\n\", '281,광규형!!!!!!! 성동일 꼰대 말 왜들어가지고 ㅋㅋㅋㅋㄱㅋㅋㅋㅋㅋ 신도시 해봤자 인천따리야 송도 ㅋㅋㅋㅋㅋㅋ\\n', '282,더떨어져야한다\\n', '283,토지거래허가지역부터 편하게 풀어라.왜 주인이 집을 정부 허릭받고 팔아야되냐?\\n', '284,집값은 추락하는데 종부세는 택도 없이 오르고 이건 무슨 공산당 같구나\\n', '285,2024년까지 저점이라고 그럼 25년부터는 오른단 말이가?\\n', '286,ㅋㅋㅋㅋㅋㅋ 한국은 일본과는 다르니 일본전철은 안밟을 거라면서? 대박일세 ㅡ\\n', '287,\"돈도 없구요 있어도 거품따위는 관심없구요, 이자 감당이 안되서 집은 포기할라구요. 그 돈있으면 여행다닐라우~\"\\n', '288,뭐가 반토막이야?? 분양가보다 더 빠져야지 중고인데ㅋ\\n', '289,광규형 때문\\n', '290,요즘 하락장에 기자들은 인천송도를 저리 쓸까...? 100%올랐다가 이제 50% 빠진거야...물가상승분 때문에 아파트 값은 어느 이상 빠지지 않아...\\n', '291,반토막나도 살사람 없다는게 더 문제지\\n', '292,집은 많은데 서민들은 죄다 전세 월세.....아님 평생 대출 갚거나....말이 안되지...\\n', '293,\"한가지 알려줄게.. 인천주변 또는 송도 내에서 알아보지 말구, 서울권 사람들이 송도를 아는지? 산다면 얼마가 적당한지? 발품좀 팔고 사던가? 해라\"\\n', '294,반토막이라니 . 아직두멀어다\\n', '295,주거용 주택으로 투기하는자들은조작개검보다 더 나쁜 인간들이다\\n', '296,ㅋㅋㅋㅋ 아직 멀었다 시세 대비 60~70% 빠져야 정상이다....인천 같은 동네가 무슨 강남 3구냐?? 그돈주고 사게...\\n', '297,정상화\\n', '298,김광규\\n', '299,?반토막이라도 금 리이상기에 아직도 비싼데?\\n', '300,아파트 가격.. 전문가들 말에 의하면 앞으로 7년동안 하락한다고 한다\\n', '301,당연한 현상 아닌가?아파트 적정 가격은 서울이 평당 2500만원수도권은 1500만원지방은 모조리 1000만원 아래면 된다고 본다.\\n', '302,일본처럼 되는거야 40.50년된아파트는 재건축재개발없이 자식없이 늙어가는 노인틀만있고 ... 빈아파트 속출.. 인구수 감소 노령인구 증가\\n', '303,송도 집사니 서울 변두리 사는게 낫다지방가는거 보다 넘 멀다\\n', '304,인천 송도 서울 등등...거품이 빠진건데...뭔 날리난것처럼 떠들지???\\n', '305,집은 주거 목적으로 살아야지 투기 목적으로 하는거 아니다\\n', '306,아직도 두배 오른 가격인 것 같은데… 송도가 6억이라니.. 넓은 평수도 아니고…\\n', '307,저기서 반토막..금리 10프로 갈거니까..빚잔치 집투기벌러지들.월급 천만원씩 받아 처묵하니 집투기한거지?\\n', '308,송도는 중국미세먼지 정체지역에 사방이 고립된 곳임 그 안에 직장있음 오케 그 외에는 잠시 전세살곳 절대 집 사면 망조\\n', '309,\"하늘에서 아파트가 떨어졌냐!헬기추락은 들어도 아파트가....콘크리트가격이 몇억?40년이상 오르더니,50년이상 내려가겠군....\"\\n', '310,ㅉㅉㅉ\\n', '311,이런 기사는 그만 좀\\n', '312,앞으로 10년이 아니라 20년은 지속 하락세임. 인구를 봐라. 시골로 시작해서 도시 외곽부터 중심부까지... 20대 이하는 미래에 거주지 걱정 없이 살 수 있기를\\n', '313,여기 저기서 무너지는 소리가 나는구나. 진짜로 각자도생해야 할 시기가 찾아 왔다.\\n', '314,송도는 그 지역 직장인만 살만한 곳이지...\\n', '315,송도 최근 경매물건 4억대 까지 내려왔다. 이말이 뭔말인지 아심?? 그 이하로 떨어진단 소리임.\\n', '316,가족사기단 이나잡아넣어라\\n', '317,인천은 3억대가 적당하다 거기에 살다간 언제 인생 조질지 모른다\\n', '318,반토막이라도 송도에 가서 살사람이 얼마나 있겠누~??? 거품이 꺼지는건 다행이다 싶어요\\n', '319,김광규 우짜노\\n', '320,금융위기직전이다.김진태와 원희룡은 이 죄값을 치르게 될꺼다\\n', '321,더 떨어져야지...3억까지 가즈아~~~~~\\n', '322,가진 놈들 재미 다보고 빠졋나보네\\n', '323,50%가 반값이지\\n', '324,넘 늦었다...한국 출생률을 봐라!\\n', '325,분양권 마피붙고 1~2년 지나야 안정 궤도에 올라올거임..초저금리나 울트라인플레이션이 향후 다시 오지 않는한 부동산은 완만한 상승또는 보합으로 쭉 이어질거임...생산성 있는 일을 하시던지 기술을 배우시길...\\n', '326,송도 아파트4.5억 아파트매매 있습니까? 소개해주삼 국민여러분 정신차리시요\\n', '327,전임정부가 부동산폭등으로 심판을 받았으니 앞으로 오랜기간 더 지속적으로 하락해야 맞다.\\n', '328,투기자들의 결말ㅋ\\n', '329,이제 시작일뿐이지~더 떨어칠거다\\n', '330,군중심리는 미칠땐 단체로 미치고깨어날땐 한명씩 깨어나다는 것이다.지금이라도 이성을 찾고 논리적으로 현상을 보고남들보다 하루라도 빨리 탈출하시길.\\n', '331,삼분의 일토막이 되면 코로나 이전가격이다\\n', '332,소대갈 때문이다\\n', '333,하향평준화 되가는군 전국모든집값 3~4억대\\n', '334,오 2채 사야겠다. 12억원이 6억으로 갔으니..3채는..욕심이고\\n', '335,뻥은 잘치지 호가만 내렸지 거래가 몇건이나 되었냐. 쫌 설치지 마라\\n', '336,시멘트 닭장이 너무 비싸ㅡㅡ\\n', '337,뭐가 받토막이야? 예전가격으로 돌아오는건데~\\n', '338,수도권은 전부거품\\n', '339,ㅋ 1프로 그것도 떨어진거란다 언론이 문제다\\n', '340,일본이랑 똑같지 버블~~~\\n', '341,미친듯이 올라간게 정상은 아니었지 예상했던거 아닌가...\\n', '342,10년대비 40% 하락 예상한 나도 틀렸네. 70% 하락 수정 예상해 봅니다.\\n', '343,옛날 홑벌이로도 아파트사고 아이키우며 생활하는데 별로 문제없었던 시절이 언제였던가.. ?..아마도 지금 60~70대분들은 그땐 그랬었지 하실듯싶다.그시절엔 맞벌이가정도 그닥 흔치않았었고...참 옛날 이야기다.\\n', '344,오르면 오른다고 난리 떨어지면 떨어진다고 난리구나 그래도 더 떨어져야 정상 아닌가?\\n', '345,간단해 미술품이라고생각해 얼마가될지 판단은 본인목\\n', '346,사람이 살아가는데 의식주는 기본이다 아직멀었다 더 떨어져라\\n', '347,2008년에 3분일로 떨어졋는데 12억이면 4억 5억 까지 가격 하락 하겠네요\\n', '348,솔직히 아직 못느끼겠다 막상가보면 아직그대로던데.기가막힌건 촌동네 아파트값이 5억대라는거다 지방인데도..4년전에는 3억대 아파트도 보기힘들던 동네가말이다..아무 인프라도 그렇다고 시내도 우리동네보다작다 그런데도 여기저기 아직도 아파트 짓는다..ㅋ 어떻게 될지는모르겠지만돈의 값어치가 하락했나?하고 착각이 들정도이다 가만보니 그래 아파트 10 억가까이 주느니 3억대 빌라사고 나머지돈으로 먹고놀자가 답이더라..왜 아파트에 인생을 거는지. ?\\n', '349,있는 사람은 지금이 구입 적기\\n', '350,고점 대비 비교말고 저점 대비 비교도 해주세요\\n', '351,원희룡이 전국집값 0.6%하락했다고 더 하락해야 된다고 하니 실제 전국 평균이 아니라 아파트만 놓고 보면 기본 30%많은 곳은 50%하락 했다고 말하니 거짓말이라고 어디 그런곳 이냐고 난리치던 보수꼴들 생각나네 전국평균이 뭔지도 모르고 댓글 싸지르는 보수꼴들\\n', '352,송도다ㅋㅋㅋ\\n', '353,대구랑 지방은 인구도 적은데 아파트만 늘어나서 미분양에 건설사 부도 위기라네여\\n', '354,5년 이상 하락기.. 하우스푸어.\\n', '355,지금은 금리 영향이 크지만 내년부터는 경기침체와 실업 등이 부동산에 영향을크게 줄 것이다.\\n', '356,거품이 이제 빠지나 보네\\n', '357,투기하지말라고 그렇게 말해도 안들어 쳐먹더니 ㅉㅉㅉ 남한태 피눈물 흘리게 했음 이제 니가 흘릴 타임이야 ㅋ\\n', '358,문재앙--내가 아파트값 다 올렸습니다 이제 그만합시다\\n', '359,집값 한참 더 떨어져야한다물가 잡으려면 금리도 계속 인상해야되고\\n', '360,이게 맞지 않나. 더 내려가야 된다. 거품 심했잖아. 양심 있으먼 인정해야될 부분.\\n', '361,송도유원지 있었던 갯뻘이...너무 까불었지..\\n', '362,난 1억 더주고 샀는데 그거 다빚이다 문정부 멍텅구리\\n', '363,닭장같은 시멘트덩어리가 12억이라는게 말이되냐… 걍 실건축비에 플러스 1억해라\\n', '364,휴 현금 들고 살까 하다가 버텼는데 돈 번느낌이네요\\n', '365,아직 멀었다...4분의1 로 하락해도 투기로 돈 벌은거지....5분의1은 되어야 정상이지.\\n', '366,아직 더 떨어져야 문죄인 정권전 집 값으로 내려온다. 뭐 기레기 아직 뭘었다\\n', '367,\"웃기지마라~! 아직 반토막 더남았고, 그것이 정상이였다~! 부동산 정상가 돌아오면 물가도 떨어지게 된다. 우리나라 물가 상승 선두주범이 부동산이였다~!\"\\n', '368,지금도비싸다 더내려야지\\n', '369,구라요\\n', '370,언론조작질 부동산\\n', '371,\"경기도 외곽, 인천 3억짜리가 느닷없이 10억 됐었지. 반토막 5억이면 아직 안죽었잖아? 엄살 떨지말고. 2억대로 떨어지면 형아가 소주 한잔 살게.\"\\n', '372,17~18년 가격이 적정선입니다 19년에 이미 거품 얘기가 있었던걸 많이들 잊고 있더군요\\n', '373,이제야 집값이 정상으로 되어가고 있군\\n', '374,1 프로라 해봐야 얼마나 된다고 이리 호들갑이냐 1억해봐야 백만원이다~\\n', '375,ㅋㅋㅋ 아이고 나혼자산다 그 아재 우야노 매번 투자 폭망이네\\n', '376,거품이 ㅍ빠지고 있는거지\\n', '377,위치가 너무 극단적이다\\n', '378,지방으로 오세요. 집값 쌉니다. 5억이면 그지역 최고의 아파트 사고 남습니다. 일자리도 넘쳐나요. 구미 강동쪽 와보시면 둘중하나가 외제차 입니다.\\n', '379,더 떨어져야하는데~~\\n', '380,더 떨어져야 함..\\n', '381,\"99대1에 사회 어떻게 생각하십니까?내집 잡혀 주고담보대출 왜 고소득자만 대출 받을수있게하나ㆍ꺼꾸로 해야지 ㆍ적은 소득자가, 대출받을수있게하라 담보 했잔는가가 가\"\\n', '382,\"조중동, 이제 부동산 안정되었다고 기사 써 댈랑가? 궁굼해.\"\\n', '383,더 떨어져야지.\\n', '384,살면서 들었던 소섹중에 가장 기쁘고 행복한 서식이다 이제 청년들도 내집마려느이 꿈이 현실화될수있게 부동산 안정화도ㅑ가고있다 더떨어져애한다. 더 더 더~~ 미래를 생각하면 부동산은 더욱 안정화돼서 너도나도 내집마련의 꿈을 꿀수있게하고 청년들에게 기회를 많이 줄수있게 기업들의 규제 모조리풀고 정율화 시켜라\\n', '385,내리니 좋다\\n', '386,제자리 ㆍ찾아가는중 ㆍ ㆍ상투 잡은 사람들만 ㆍ피 보네 ᆢ힘들게 안하고 ㆍ쉽게 벌려고 ㆍ자업 자득 ᆢ\\n', '387,ㅇ여기서 더 반토막 가야지\\n', '388,그간 얼마를 올랐는데... 싸게 팔고 못산 10년 얼마나 나 자신을 자책하며 힘들게 살았는데...\\n', '389,바닷바람 불어오는 매립지 아파트는 6억도 비싸다.\\n', '390,고점에서 반토막인데 뭐 어쩌라고 ㅋㅋㅋㅋㅋ\\n', '391,비정상적으로 오른아파트 다시돌아오는거고아파트떨어진거 난 딱히모르겠던데\\n', '392,집없는 사람많구나~~~거품무는거보니 ㅎ\\n', '393,일본 따라 가는가\\n', '394,인천인데 당연히 떨어진금액이 맞는거지 인천이자나ㅋㅋㅋ\\n', '395,돌아가자\\n', '396,서울집값은 내년부터 시작이다ㅋㅋ\\n', '397,미국이 금리 7%이상 올린다고 이미 확정했다. 이제 시작인데 뭘 그래.\\n', '398,아직멀엇다\\n', '399,송베리아를 아시나요\\n', '400,윤도리 정권 손놓있다간 일본꼴 난다\\n', '401,전국민 반은 부도나겠네 ㅠㅠ\\n', '402,자기들 집값 못올려 안달이 난 윤석과ㅈ국짐당을 몰아내야 정상화 된다 아이가ᆢ\\n', '403,ㅋㅋ 분양가 에서 마이너스 치면 사줄께 이넘들아 ㅋㅋ\\n', '404,이럴땐 버티는곳이 진짜 알짜다\\n', '405,똘똘한한채가 무슨말인지 모르지?똘똘이만 살아남는다.\\n', '406,이제 시작입니다ㅋㅋㅋ\\n', '407,버틸수 없는사람 빠지고나서 안정화되면 정상적으로 상승세 타겠지.\\n', '408,2024년까지 내린단다.전문가들이...반대로 하면 된다. 2013년말부터 오른다..\\n', '409,신불자들도 많이 생기겠네!\\n', '410,수원 용인 광주 남양주 쪽 아파트들은 작년 가격이랑 똑같던데 뭐가 떨어졌다는거야??\\n', '411,부산은 왜 그대로지?\\n', '412,\"정상가 복귀중인데, 계속 자극적인 기사 제목으로 어그로 끄는 기자들은 뭔지 참 우습네.\"\\n', '413,그래도 비싸요..\\n', '414,집합건물아파트를 가격을너무많이올린부작용이죠 낚시할때 미래를위해. 새끼물고기는 방류하듯이 서서히 길게 조금씩가격을올려야길게가는데 아파트가격을투자자들이씨를말릴것같이 까짓것가격을너무급등시켜버린부작용이지금너무큽니다\\n', '415,좋은시절 다갔네~ㅋㅋㅋ 아직도 바닥이 아닌듯~\\n', '416,2년뒤에 망할사람들 얼마나 많을지 상상됩니다\\n', '417,내년 하반기 저점 도달 이후 적어도 몇년간은 ㄴ자 유지가 예상됩니다.\\n', '418,금리화이팅!!!\\n', '419,부산은 집값안떨어지던데 여기부산먕정젼태아파트인데 집값이일년전이나지금이나또긴개낀입니다\\n', '420,뉴스들이 연일 저 송도아파트 엄청 울궈먹네…\\n', '421,이제 쪼~~~끔씩 제자리찾아가고있는데 문제될께있나? 아직멀었구만\\n', '422,지금가격에서 반타작더나면 매수세 붙을듯\\n', '423,떨어져 봤자 2~3배 오른 가격에 비하면 1년에 10% 하락이다.아직 멀었다.\\n', '424,짝짝짝\\n', '425,광규형~~ㅜㅜ 이를 우째\\n', '426,급매물 이면 지금이 기회 다시 금리가 내려가기 시작 하면 그때 는 늦으리. 좋은곳 골라서 급내 나오면 한번 더 딜을 해서 계약하면 승자\\n', '427,인구는 주는데 자꾸 지어서 팔아먹고투기힌 당연한 결과다.영끌족 탄생시킨 투기범들 잡아 들여라\\n', '428,\"지금부터 40~50%떨어져야 (2017년 가격)원위치이다그때까지 고고싱이다,,,\"\\n', '429,전세계적 물가 부동산통화 인플레이션 극적끝나야 새로운경제 사이클이 온다!\\n', '430,내릴때도 됬지뭐\\n', '431,\"아파트 공급과다, 인구감소… 직주근접 역세권 행정 편의시설 완비된 도심권 그 중에서도 한강변 프리미엄 아파트로 셀럽과 찐부자들의 부촌형성에따른 양극화 진행중…\"\\n', '432,부동산은 후반영 이제 시작임\\n', '433,일본 따라가나\\n', '434,12억이 6억이 됐네.\\n', '435,더 내려가야된다 서인 내집마련에 신경써주고 대책 아련해야된다\\n', '436,2018년으로 돌아가고 있는중.그때쯤 집값이 적정수준.\\n', '437,송도가 비쌀 이유가 없지 ㅋ\\n', '438,ㅋㅋㅋ왜 국민의짐 지지자 정치병자는 금리랑 부동산은 상관없다고 하는걸까? 경제흐름을 몰라서 그러는걸까?ㅎㅎ\\n', '439,이젠 또 떨어진다고 호들갑 ㅋㅋㅋㅋ어쩌라는 거냐?\\n', '440,이제 시작 ㅡㅡ\\n', '441,윤씨 잘한다~이제야 정상적으로 되어가네\\n', '442,윤석열 대통령이 대단하시네ㅡ 단번에 부동산투기를 잡다니~~~쭉쭉더 빠지게 쭉~~갑시다\\n', '443,문재앙의 빅똥. 그거 치우느라 얼마나 더 고생을 해야 하는 건지.\\n', '444,뭉재앙이 쏘아올린 미친집값\\n', '445,\"문재인정부의 잘못된 부동산정책으로 인해 폭등했던 집값이 정상화되는것으로, 다만 40대 문빠들이 영끌과 빚투해서 집을사고 이자폭탄과 집값폭락에 시달리는것은 안타깝지만 무식한자를 지지한 업보로 받아들여라!\"\\n', '446,이전정부가 집값못잡아서 개판된거 이번정부가 어렵게잡았다고 얘기한거 기억안나? 반토막이 아니고 대통령업적이다\\n', '447,실제로 부동산 가보면 저 가격에 살 수 없다. 사연있는 매매를 기사화 해서 판단 흐리게 하지 마라.\\n', '448,국짐당. 집권하면 나라가 개판되지. 왜? 무능력자들이 자리만 차지하거든\\n', '449,몃달만에 반토막~~??? 몃달전엔 왜 따블에 거래됐을까~??? 문재앙의 수수께끼네\\n', '450,좌파 정신 나간 놈들은 집값을 꼭 누구 때문에 올라간거라고 피해망상 증상 장난 아니더라.... 없는 놈들이 영끌해서 더 올라간거 아냐????\\n', '451,\"미친 집값 만든 특등 정파-더민당, 좌파, 투기족\"\\n', '452,모조리 다 특수거래일 뿐. 그치?\\n', '453,거품 거품 다빠져도 아파트는 제테크다 ㅡㅡ열심 투자하세요\\n', '454,광규형~~~~그냥 부산 송도에서 집 사시지~~\\n', '455,문통이 뭘 했냐ㅋ ㅋ 그냥 오른거지 윤통은 또 뭘해서 내렸는데?\\n', '456,부자들 뒤로 집사고잇다 바대치면 한두살새 다시 꼭지 상승\\n', '457,집값 털어진다고 윤찍더니 잘됐지~\\n', '458,송도 집 하나 줍줍해볼까??\\n', '459,아마 수도권에 정부에서 예상한 집을 앞으로 짓는다면 외각은 분양도 안될거다ㆍ우리나라에 집이 부족해서 집값이 올랐다는 엉터리 전문가(실은 전문 투기꾼들)들이 판을 치고 있다ㆍ그들이 그동안 집값을 올려 놓았다ㆍ투기꾼 전문가들과 인터넷으로 인한 일반투기꾼과 저금리가 만든 일과성으로 집값이 오른거다ㆍ앞으로는 절대 그런 일은 없을거다ㆍ이유는 거의 다 집들을 샀다ㆍ못산 사람들은 아에 능력자체가 없는 분들이다ㆍ그런데 집값이 오르겠는가 ? 그리고 오를 때도 심리적으로 올랐다ㆍ불과 한 두개 거래로 크게 올린거다ㆍ비 정상적이었다ㆍ우리 알고나 삽시다\\n', '460,여기도 집없는 떨거지들 댓글 잔치 났네요\\n', '461,ㅎㅎㅎ 사연있는 아주 드문사례를 가지고 전체인양 일반화하지 말어 기레기님! 주변에 그런곳 하나없어!\\n', '462,반토막되면 살돈은 있냐? 집도 없고 돈도없고 대출받아 갚을 능력도 없고 그저 남의 집값 떨어지기만 고대하는 무능력자들조심해라 나중에 집주인이 경매로 날리면 전세금도 날아간다강건너 불이 바로 너네집 불이다\\n', '463,자산 거품이 경제 시장논리로 형성된거라면 조금은 이해가 될듯한데 씹어 먹어도 시원찮을 정치인과 악덕기업 그리고 투기꾼들에 의해 놀아났다는게 분을 참을 수가 없다. 국회와 정당 모두 해산시키고 시민참여 직접민주주의로 가든지 해야지 정치인들 꼬락서니 때문에 분하고 분하다.\\n', '464,\"문재인이 집값, 칠뜩이 짓거리 해놓고, 시방 양산 아방궁에서 방벽에 똥칠하고 있다나, 뭐라나?!\"\\n', '465,상투 안됏지만. 4억이 적당가치\\n', '466,문재앙 똥 치워지는구나\\n', '467,언론 부채질 어쩌다 1만세대 밀집지에서 1거래 떨어지면 난리인데 알아보면 다증여더라.\\n', '468,3기신도시 포기해라.\\n', '469,이상하게 올랐던거지 더 내려야돼\\n', '470,이제 세금 돌려주려나~~?\\n', '471,내려가면 오를때도 있겠지.\\n', '472,당분가 계속 될거야\\n', '473,검찰 공화국은 집값같은거 전혀관심없다. 어자피 막가는거 내식구는 놔두고 민주당포함 무조건 잡아들여 족차고 왜곡하고 마치 용산 대공분실 같다 내가 야동찍으면 예술 니들이찍으면 외설 porno 걍 구속이다\\n', '474,2번찍으면 집값 안떨어질꺼라 생각했겠지~~~~재명이는 무조건 집값 때려잡을거같고ㅂ~그래서 굥을 찍었는데 그냥 넉다운 당하고 있음....국짐애들은 태생적으로 계층간 사다리 이동을 두고보지않지~~~그냥 걷어차버림~~영끌해서 고점에 물린야들은 요번정권때는 힘들꺼라본다\\n', '475,이거 다 새빨간 그짓말입니다 여러브은~~ 당장 빚내서라도 사야됩니다\\n', '476,댓글보며 무주택자가 많구나.. 싶다.\\n', '477,담에는 집값올라서 싫어두 윤도리찍은사람 지금 손가라 자르고 싶겠다 다음에도 국개힘 찍어 집값 푹락해라 다음에 집좀사게 양은냄비들\\n', '478,남의것을 반값에 얻으려는것도 욕심이죠. 돈 부족하면 더 싼집 찾아야지 남이 힘들게 얻은걸 반값에 가져가려는건 양심 있는 행동인지 생각해보길 바래보네요. 빨리 거래가 많이 활성화 되길 바랍니다.\\n', '479,84제곱미터. 12억이 6억??? 세계추세를 보면 아직 한참 더 오른다.. 지금 12억이 100억까진 무난히 오른다..\\n', '480,우리나라는 집과 차가 명함인 나라다. 이럴때는 엉덩이 무겁게 집값 신경안쓰고 그저 생업에 열심히만 하고있으면 금리내려가면서 오를곳은 알아서 올라간다. 부동산과 주식은 투자 논리에있어 비슷한것이 많다. 반대로 무주택자에게는 지금이 절호의 매수기회인 만큼 분별력을 가질 필요가있다. 인구는 줄어들지만 가구수는 핵가족화로 계속 늘어날것이다.\\n', '481,송도가 내리면 모허노. 압구정은 신고가 나오는데…. 송도 함 가봤노. 서울 오려면 몇 시간 걸리는지 아노\\n', '482,집값 더 내려야 한다 문통때 집을 팔고 갑자기 폭등하는 바람에 지금은 집을 살 엄두도 못냄\\n', '483,수도권 부자들이 인제야 아 실수했다..윤통과 국힘이 이럴게 무능력 했구나 하면서 땅을 치고 후회 하겠지....이런 기회에 서민들이 집 마련하면 좋을텐데 경제가 이 모양 이 꼴이고 정부는 무능하고 답답하다....\\n', '484,매도하지말고 1년만 버티세요 부동산은 실물이 있으니 내년 금리떨어지기 시작하고 내년 가을부터 팍팍 오른다\\n', '485,YTN 문재인 대변인질 하더니. 집 값 지금 정상으로 돌아오는 중이다. 우리 나라 좀 먹는 언논 노조 싹그리 없어져야한단. 슬리퍼 MBC.YTN\\n', '486,집값 올라가도 정부탓 내려가면 전정부탓 ㅋㅋㅋ 더 떨러져라~~~\\n', '487,열씸히 살아서 집하나 송도에샀는데 그게 투기냐? 이멍청아 당신은 평생 월세돌이가 배아프니깐 계속 그렇게 살아라\\n', '488,그게그거 살고있는데오르건내리건? 세금적게낼거나생각되는거지 문재인정권이 되지도않게 건들여서 이꼴난것 어쩌겠어?\\n', '489,굥이 말아먹는 경제 외교..곡소리\\n', '490,문죄인이 만들고 간 작품이죠ㅠ집하나 못살까봐 빚낸 서민들만 발동동구르겠죠 나쁜 인간 고스란히 문죄인때문에 서민만 더 삶이 어려워졌죠양극화가 더 심화되고ㅠㅠㅠㅠ\\n', '491,\"급락후 급반등 타이밍에 모든 걸 걸어라, 6개월 안에 온다\"\\n', '492,집산 사람들이 다 투기꾼도 아니자나. 재산권 보호가 이렇게 안된다면 이나라에서 뭘 가진다는게 불안해서 소유라는걸 하겠냐? 이렇게 사회주의화 되는건가? 이걸 노리고 부동산 미친듯이 오르도록 조건 만들어 준건가?\\n', '493,\"이부망천은 진리이자, 팩트며, 과학이다\"\\n', '494,영끌 2찍들 죽어나겠다. ㅜㅠ 본인 손가락을 탓하시오!!\\n', '495,문재인이 결국 옳았고 재평가가 시급함. 그는 잘못 없다. 너거가 말을 안 들은 탓임.\\n', '496,집없는세입자들이 집주인 망해라 폭락기우제 지내고있으니 참.. 벼락거지들 인성 어디가겠냐? 어차피 떨어져도 못사고 평생동안 부동산 임대차계약서 쓰러 들락거리고 살어.금리안올린다고 ?그지근성 참못 되었어 진짜....\\n', '497,집값은 떨어졌다하는데 종부세 낸건 왜 안돌려주나? 집 판것도 아니고... 문죄인 놈\\n']\n"
          ]
        }
      ]
    },
    {
      "cell_type": "code",
      "source": [
        "okt = Okt()\n",
        "text1 = ''\n",
        "for sentence in reply_text : \n",
        "  for noun in okt.nouns(sentence) : \n",
        "    if noun in ['데','이','그','것','건','전','사','배','등','중','못','수','저','더'] : \n",
        "      pass\n",
        "    else : \n",
        "     text1 += noun + ' '\n",
        "\n",
        "print(text1)"
      ],
      "metadata": {
        "colab": {
          "base_uri": "https://localhost:8080/"
        },
        "id": "CIHgH81vR8tJ",
        "outputId": "441da9a8-1954-4598-c0df-5cb7ab50fa06"
      },
      "execution_count": 57,
      "outputs": [
        {
          "output_type": "stream",
          "name": "stdout",
          "text": [
            "집값 정상화 뭐 문제 리가 부동산 투 기자 패가망신 초 고령 사회 진입 집 살 사람 문재인 정부 집사 말 말 투기 세력 조장 집값 함 반토막 거기 반 반 정상 그거 초고 이제 팔면 반토막 호구 모집 중이 그냥 투기 전주 위치 아파트 조정 진짜 알짜 신고 양극화 송도 평 송도 동탄 광교 청라 계양 김포 남양주 다산 양주 의정부 미만 하남 강동 고덕 둔촌 미만 위레 용인 수지 미만 수원 화성 미분 빈집 일산 고양 삼송 기준 국평 신축 기준 집 년 때 줄 엄살 부리 집값 떡 곳 어 동안 기자 아파트 소유자 분 얘기 콘크리트 공간 정말 터 무니 이제 비 건축 비 적정 이윤 포함 가격 정도 평생 집 값 지불 생각 안 난리 월급 집 평생 가격 이나라 아파트 가격 집값좀 자 허위기사 반토막 아파트 속출 정상 가격 복귀 아파트 속출 표현 송 도 바 바람 습기 황사 그다지 주거 환경 부동산 폭락 옴 투기 논 가격 송도 적정 금액 서쪽 땅끝 마을 건물 잔뜩 사람 유령도시 원래 가격 집값 폭락 호들갑 서울 부동산 가격 투기 작전 세력 악덕 부동산 중개업 소 준비 부동산 가격 인플레이션 서민 전세 기간 및 전세 금액 상한 한도 법 규제 하니 강남 부동산 중개업 소 정부 조롱 듯 기존 전세 금액 찍찍 거기 걸 실 거주 아파트 가격 규제 부동산 중개업 소의 자격 모두 몰수 인터넷 직거래 대한민국 기성세대 반성 투기 꾼 하야 중국인 매수 매도 피해 송도 크게 대한민국 아파트 가격 좌지우지 중국인 중심 제주도 중국인 투자 유치 주택 가격 제주도 지사 장관 존재 외국인 중국인 투자 세력 폭 가격 등락 수십 걸 누가 투기 위 가격 거품 폭등 팍 가족 거래 언론 서민 입장 집값 정상 집값 때 정부 욕 너희 이중 행태 송도 그냥 뭐 외진 곳 평촌 의왕 인천 김포 분당 하남 개 거품 집값 공무원 봉급 기준 정도 알뜰 살 정도 미처 투기 꾼 젠 고개 때 자 반 가격 사이 집값 이상 말 집값 정상화 해 송도 주민 어깨 힘 좀 누가 강남 집 인생 뻥튀기 사람 때문 갈수록 집 기사 기자 놈 청약 광고 가격 구입 분 판단 근거 당장 꼭 매우 소수 투기 목적 근거 분석 투기 현 상황 말 집 값 시점 사람 줄 방향 경제 신기 울상 투기 꾼 정도 리스크 알 인천 구석 곳 이상 산다 자체 이해 저번 뉴스 중국 부호 왕창 놨다 탈출 입지 도망 답 부동산 매매 율도 반토막 사람 사람 무슨 의미 집값 반토막 점점 정상 가격 거품 분양 가가 말 반토막 사람 살기 곳 집 지어눟 그게 반값 오른 송도 냉장 평 송도 고립 섬 곳 왜 왜 이제 송도 거지 속출 듯 송도 마곡 하남 호 위례 등등 답 무슨 동네 뭐 멀엇구 송도 무슨 인천 구석 송도 거품 어디 동네 집값 말 송도 적정 수준 송도 사람 살수 동네 바닷가 초고층건물 어거지 신도심 거기 서울 출퇴근 처음 송도 개발 때 초고층건물 입 주자 유령도시 란 별명 뉴스 반토막 막상 가격 매물 거품 나라 우리 나라 분양 래야 분양 가도 송도 아파트 추락 정상화 거품 현상 내일 물량부족 가격 폭등 보수 찌라시 아파트 하늘 뚝 가격 폭락 부동산 경제 원래 정상 가격 회복 살맛 나 주택 부동산 투기 세상 급락 반토막 원래 가격 찿 거품 걸 생각 송도 합리 가격 광규 집사 평 정도 호둘갑 씨 정치 개판 소주 어쩌 민노총 개 민노총 패 악질 방치 사업 사람 악 파라 치 통해 바람 돈 사업 안 부동산 폭등 거지 원인 문씨 무려 이상 지금 가격 반 정상 가격 집 사람 바보 일 뿐 평수 그게 비정상 고양시 네이버 부동산 매믈 하나 뭘 보고 난 린지 개 거품 가로 그대로 조사 좀 부동산 안정 정상화 시작 듯 산 사람 무슨 기분 통때 집사 말 말 전부 투기 세력 폭락 난리 증 여야 바보 송도 적정 직장 인천 서울 물 잠기 반 반토막 적정 가야 짜장면 값 버스비 코로나 전쟁 중국 봉쇄 복합 하향 다시 리먼 사태 때 자 다만 서울 수도권 인접 상관 지방 답 인천 정상 송도 첨부 터 가격 말 제대로 거품 대출 집산 서민 사정 집값 정부 거임 큰일 이제 계약 기간 사가 시기 내년 가을 정도 경매 우후죽순 나겄어 자살 자 수두 파산 선고 말 집값때 입자 기레기 집값 이제 반값 정부 이전 가야 송도 일반 입지 년 말 평 대가 게말 이참 장난 친놈 패가망신 쭈우욱 학수고대 함 송도 적정 서민 살수 가격 다시 기자 소리 말 말 집값 무 주택 희망 통속 살 젠 집값 끌족 어깨 부분 산 주택 자 통속 힛팔 재인 송도 정상 기자 집 투기 땅 투기 앞 하락 래야 투기 한참 송도 국 평이 거래 실제 매물도 상당수 정상 게 정상 좌파 집값 집값 우파 정권 포에버 축하 축하 윤석렬 정책 대성공 집값 때문 대통령 집값 때문 흥 한자 집값 때문 세상 이치 성냥갑 집 반토막 삶 터전 발판 집 투기 순위 이건 예견 추락 끌 젊은이 가격 합리 가격 반토막 유혹 생가 기자 분양 거품 거품 산놈 목 하필 투기 종착역 지지리 운 반토막 진짜 지옥 내년 준공 예정 물량 전국 기준 가격 반토막 라면 이해 재앙 부동산 정책 실패 광기 가격 반토막 한참 정상 송도 찍 동네 소식 서울 아파트 작년 대비 평이 겨우 억 강남 강북 방사 사람 강남 강북 때 국민 모두 윤 행복 집값 얼마나 난리 오른 상태 왜 그동안 폭등 생각 안 하나 사람 마음 폭락 모 팩트 점 대비 반토막 건데 분양 대비 오른 점 현재 반토막 분양 대비 오른 가격 긍정 생각 살 요 세상 미처 수도권 아파트 말 뭐 추락 급 급매 증여 뿐 니 사려 가격 매물 반토막 정상화 듯 정권 때 집값 세금 투기 거 거품 거품 정상 보아 그때 겨우 급락 민주당 정권 잡 때 집값 폭등 문재인 최악 서민 청년 집사 거 포기 결혼 출산 울 전세계 꼴찌 나라 턱 송도 완전 거품 투기 꾼 지금 전세 송도 적정 송도 거의 정상화 조금 거의 정권 초반 작년 지금 정상화 집값 난리 더니 왜 지금 반값 집사 호구 가격 오른 더하기 빼기 해 그동안 포함 집값 그때 매수 타이밍 끝 빌라도 반값 분양 집값 하락 무당 찍 지지율 하락 일맥상통 집값 정상화 과정 떽 이제 무슨 추락 지금 삼분 제대로 가격 거기 감가상각 또 건물 필연 노화 후 출생 아이 관리 유지 아파트 누가 이제 얼마 인 정도 대부분 아파트 똥값 분양 폭락 공포 경험 세대 주택 매매 극적 일수 거품 기회 거품 늪 금리 트리 거 뿐 속출 매일 궈 송도 아파트 채 반값 아파트 개 전국 어디 반토막 문재인 경기도 호가 십억이 장난 지난날 평 아파트 재개발 재건축 이후 착공 리라 소리 천안 평 모든 완제 시간 가격 아파트 모나리자 예술 품 그냥 닭장 일 뿐 실제 리지 시흥시 은 왜 반 평형 점 정도 적당 집 송도 원래 거퓸 집 돈벌이 걱정 쌤통 반토막 기자 양반 웃기 금리 인상 경기 침체 찍놈 말 윤석렬 집값 소리 집 양반 윤석렬 윤석렬 엄살 기자 반토막 원래 가격 생각 차도 사면 가격 집도 연 하락 원칙 시설 물 노화 이제정 부동산 문짝 가격 반토막 나야 반토막 추락 말 언론 쓰지맙시 제발 더더 집 존재 젊은이 살기 추락 무슨 제자리 오른 얼 조금 호들갑 반토막 지금 시점 반토막 적정 모 반토막 모 서도 반 정상 광고 정도 강소 소식 뉴스 집 대출 뉴스 도배 그때 집 살 준비 인천 아파트 거기 절반 인천 코인 송도 송도 정상 좀더 제자리 뭐 문제 쭉쭉 반토막 폭락 이전 세배 폭등 프로 상승 이건 뭐 세 일케 때 반토막 프로 정상 정상화 과정 집 산 사람 야노 또 때 그냥 살 대출 이자 만만 찮을텐 호들갑 시작 지방 강남 살 필요 정작 강남 인간 남 보고 서울 집 팔 더니 정작 서울 대신 청주 집 인간 장관 부동산 장관 사퇴 인간 공통점 알 돈 삶 터전 투기 대상 임 투기 세상 임 집장 젊은이 피해 가지 말 걱정 여기저기 곡 소리 집값 고정 금리 실 거주 아파트 구매 내 승자 반토막 외 최고 가격 러 말 해 지금 손해 안보 가격 지금 분양 분양 반 지면 그때 반 해 산이 골도 법 집값 문제 문제 물가 외로 고해 정상 주택 가격 도올 경제 달 투기 대상 제외 기레기 소리 얼마나 현재 얼마 징 부자 대변자 아파트 조합원 아파트 공구 끝 자락 바다 뷰 해무 젤 먼저 맞이 거 포스코 아빠 저건 이제 시작 문재인 부동산 정책 광규 호구 오른 상태 지금 구입 상투 자꾸 부동산 투기 세력 좌지우지 처럼 말 사람 잘못 생각 임 분명 투기 세력 전체 우리나라 부동산 필수 재 투기 재의 성격 가지 국민 누구 정도 투기 가지 필수 재 구입 함 분양 당첨 전매 프리미엄 거래 모두 투기 세력 일반 국민 임 모든 제로 전쟁 역사 국민 모두 집 체 열망 누구 탓 대한민국 국민 부동산 집 채 살 변동 별로 개인 부동산 올인 채 수십 채 보유 현상 닌지 증세 대출 아파트 사서 자랑 사람 맘 폭락 원래 코로나 세금 재산세 메 교육 강사 우리나라 송도 추후 온난화 수위 상승 차 먼저 거품 거품 정상화 호들갑 통해 다시 매스컴 이나라 사람 다알껄 반도 왓다 는걸 지금 투자 수익 보고 세력 널렸을거 시멘트 집 기본 평수 말 투기 재탕 탕 제적 뉴스 지금 겨 정상화 왜 언론 계속 몸 세배 땐 뭐 광고주 위 국민 인구 계속 경제 인구 개뿔 채널 인치 브라운관 아이 둘셋 재미 평수 올인 세대 지금 수능 인구 인구 반토막 실제 인구 감소 전환 무엇 수요 결혼 관 변화 등흠 후대 위해 그게 맟다이젠 실 거주 목적 투기 반값 랜 거 사기꾼 정말 수법 판매 자 여러분 사장 반의 반값 만원 그냥 실제 시중 할인 지금 그동안 수도권 저기 지역 거품 거 거품 곳 제일 정상 왜 부동산 문제 정상 다만 한국 파트 거품 반토막 정권 정상 내년 하반기 경매 물건 분 공부 지금 가격 반값 낙찰 반토막 추가 송도 분양 기준 이면 초반 억대 반 재앙 그때 산 사람 정상화 윤정 부 맘 집 사지 말 통 말 안 오기 집 산 찍 최후 윤정 부가 집값 노력 평택 떡 삼성 줌 분양 줄섬 노 옵션 확장 줄섬 돈 최고 주택 가격 최초 분양 가가 가장 고가 시간 이지나 계속 분양 주택 투자 투기 시간 이지나 주택 외국 철거 비용 물리 가격 마이너스 천 래야 거주 목적 토왜쇄키들 방해 집값 추락 국민 포상 저걸 일반인 거지 반토막 거래 가조 거래 호가 정도 하락 게 팩트 하락 기조 수꼴 정부 세계 금리 전세계 집값 폭등 정부 집사 후회 고 몇번 경고 비트코인 규제 하니 개 거품 비트코인 옹호 수꼴 정부 과학 비트코인 꼴 부동산 주식 점 빚 사람 문제 잔뜩 금동 상황 일확천금 노리 벼락 거지 논 당상 그냥 빚 행복추구 스트레스 현자 생일 세 평생 건설 사만 나라 비정상 목포 상동 아파트 평수 작 골 산다 교통 최고 요지 시외버스 터미널 종합병원 개 국도 호선 출발 지다 단점 평 평 대체로 아파트 지은지 사람 살기 아주 위치 장점 커버 곳 집값 풍선 토막 정상인 수도권 신분 윤 재앙 파이팅 좌파 정권 부동산 폭락 재앙 짓 해도 못학던걸 고작 반년 반토막 만드 걱정 개월후 집값 윤석열 만세 대남 이문정 집값 더니 왜 집값 너희 장래 장미 빛 너희 청년 일자리 예산 대고 치매 김현미 부동산 개판 개미 피박 나 조국 바보 위치 다시 송도 뭘 속출 해 가짜 뉴스 선동 뉴스 정상화 부동산 값 집착 용산 집 타이밍 하나 가야 언론 때 뭐 재앙 혐 주택 취지 인정 어쩌겟 인간 욕심 끝 윤씨 덕좀 닭장 집 폭락 가즈 시작 지금 소식 문제 예전 집값 사고 요즘 금리 상해 집 거기 거기 사람 돈 사람 비명 그동안 집값 비정상 지윤 임 시작 끝 보이지 터널 초입 앞 집값 계속 간다 때 팔지 인천 집 주거 목적 분양 이하 분양 비씨 나라 집값 이유 지금 거목 투기 목적 동안 거품 증거 요 거품 원래 집값 정부 때 국토부 장관 말 생각 청약 끌해 끌 집산 사람 피해 과연 생각 걸 뭐 시라 제곱 반토막 어이 아파트 지금 이상 폭락 아파트 가지 떼돈 번 인간 그날 쭉 잉 전용 면적 지난 매매 우리 집 분양 집 채 살집 관심 마리나 베이 비 오션 오션 집값 거품 차고 가구 주택 허용 인구 줄 중공군 집 순 반값 시작 임 이제 기업 버티고 구조조정 대량 실업자 실업자 끌족 물량 끝임 집값 특등 공신 문재인 김현미 김수현 길이 집값 정상화 때 광규 시작 외국 거지 바보 건설 부동산 업자 맘 까페 언론사 그동안 집값 반토막 지금 대한민국 보기 예전 거리 북적 사람 대간 하나 겨우 자녀 부모 대부분 세상 홀로 인간 욕심 때문 유치원 초등학교 중학교 고등학교 대학 마 반토막 인구 이제 시기 사람 주머니 서로 차지 피 경쟁 사회 돈 사람 세상 지금 세계 문화 강국 무슨 소용 고 이제 집 마련 우리 광규 정상 통때 전국 얼마나 올냤 정상 규제 돌멩이 경제 투기 머리 돈 기사 너 집값 정상 생각 지금 반토막 정상 김광규 증여 부동산 세금 박 갑 사람 전문가 저런 전문가 란 사람 어차피 자본가 추세 부동산 거품 착륙 천우신조 축복 추세 향후 걸처 부동산 거품 제 의 를 피 작년 판 사람과 산 사람 적 정선 자업자득 찍 집값 성장 우민 굥 무능 무지 무식 정부 때 코로나 대처 얼마나 다른 선진국 정부 민간 얼마나 우린 최소한 예방 치료 피해 대한 보상 외국 선진국 매우 그때 야당 국짐 기득권 이부 망 인천 거지 도시 청라 송도 원래 사람 살곳 누가 부동산 빵 칼 협박 함 기사 이유 이제 금방 인구 점점 집 남아 집 가지 뻥티기 시대 어서 손 절하 채 거품 대장 송도 청라 문제 때 알제 그때 걸 요즘 안성탕면 왜이르케 일 신도시 송도 가장 단점 일자리 부족 공항 공원 상권 주변 대규모 업무 산업 시설 때문 수요 찾기 를 난 지역 사람 평택 고덕 지제역 주변 삼성 앞 십년 반도체 공장 계속 증설 때문 부동산 수요 일자리 가장 역할 때 걱정 때 걱정 그냥 부동산 가격 고정 화해 자본주의 시장경제 오르락 락 뭐 때 난리 법석 사라 나라 월급르 던 대가 송도 정말 점 대비 란 말 뜻 강남 용산 나머지 그냥 일본 가격 뻥튀기 돈 인간 반성 댁 때문 말 가격 이제 시작 엄살 마이 무 아이 뭐 이나 부영 파트 상대로 조사 반값 증여 헛소릴 진보 수꼴 보수 중고차 차 기준 인상 정치 경제권 사회 권세 약속 대국민 상대 집값 부동산 가격 현재 최소 이하 하락 경제 제대로 폭락 사태 방지 세대 왕성 산업 인력 부동산 여진 구조 기형 자본주의 타파 부동산 거품경제 폭락 나라 주거 환경 도로 여건 생활 여건 취락 지구 인구 퇴보 주거 계속 인구 감소 인프라 이탈 상황 다가 사보 송도 집산 광규 진짜 안 양반 이유 곳 금값 은값 부동산 업자 죄 집 배아 파 거지 이제 가계부채 니 회사 길거리 나하 거 어이 기자 양반 좀 기사 읍 집 모양 땐 왜 안해 집값 문재인 때문 집값 지금 세계 경제 흐름 비교 뭐 문제 논리 설명 좀 광규 성동일 꼰대 말 왜 신도시 인천 따리 송도 토지 거래 허가 지역 왜 주인 집 정부 허릭받 아야 집값 추락 종부세 택 이건 무슨 공산당 점 말 한국 일본 전철 거 라면 대박 돈 거품 따위 관심 이자 감당 포기 돈 여행 라우 뭐 반토막 분양 중고 광규 때문 요즘 하락 기자 인천 송도 저리 이제 물가 상승 때문 아파트 값 이상 반토막 살 사람 문제 서민 전세 월세 평생 대출 말 한가지 인천 주변 송도 내 서울 사람 송도 산다 얼마 발품좀 팔고 해 반토막 두 주거 용 주택 투기 조작 검 인간 시세 대비 정상 인천 동네 무슨 강남 구 돈 정상화 김광규 반토막 금 리 이상기 아파트 가격 전문가 말 앞 하락 현상 아파트 적정 가격 서울 모조리 아래 일본 재건축 재개발 자식 노인 틀 빈 아파트 속출 인구 감소 노령 인구 증가 송도 집사 서울 변두리 낫다 지방 인천 송도 서울 등등 거품 주거 목적 투기 목적 오른 가격 송도 평수 저기 반토막 금리 프로 빚 잔치 집 투기 월급 천만원 처 집 투기 거지 송도 중국 미세먼지 정체 지역 사방 고립 곳임 안 직장 오케 외 잠시 살곳 절대 집 사면 망조 하늘 아파트 헬기추락 아파트 콘크리트 가격 억 기사 좀 앞 지속 하락 임 인구 시골 시작 도시 외곽 중심부 이하 미래 거주지 걱정 살 여기 저기 소리 진짜 자도 생해 시기 송도 지역 직장인 살 곳 송도 최근 경매 물건 말 말 아심 이하 소리 임 가족사 기단 이나 인천 거기 언제 인생 질 반토막 송도 살 사람 얼마나 누 거품 다행 김광규 금융위기 직전 김진태 원희룡 죄값 가즈 놈 재미 보고 빠졋나보 반값 한국 출생률 분양 마피 안정 궤도 임 초 금리 울트라 인플레이션 향후 다시 오지 부동산 완만 상승 보합 쭉 임 생산 일 기술 송도 아파트 아파트 매매 소개 삼 국민 여러분 전임 정부 부동산 폭등 심판 앞 기간 지속 하락 투 기자 결말 이제 작일 군중심리 땐 단체 땐 명 지금 이성 논리 현상 보고 남 하루 탈출 삼분 토막 코로나 이전가격 대갈 때문 하향 평준화 전국 집값 오 채 욕심 뻥 호가 거래 쫌 설치 시멘트 닭장 뭐 토막 가격 수도권 전부 거품 프로 그것 언론 문제 일본 버블 정상 예상 하락 예상 하락 수정 상해 옛날 홑 벌이 도 아파트 사고 아이 생활 별로 문제 시절 언제 지금 분 그땐 시절 맞벌이 정도 그닥 치 옛날 이야기 난리 난리 구나 정상 미술품 생각 해 얼마 판단 인목 사람 의식주 기본 졋 가격 하락 막상 그대로 던데 기 촌 동네 아파트 값 지방 도 아파트 보기 동네 말 아무 인프라 시내 우리동네 여기저기 아파트 돈 값어치 하락 착각 정도 아파트 가까이 빌라 사고 나머지 돈 답 왜 아파트 인생 거 사람 지금 구입 적기 점 대비 비교 점 대비 비교 원희룡 전국 집값 하락 하락 하니 실제 전국 평균 아파트 기본 곳 하락 말 거짓말 어디 곳 보수 꼴 전국 평균 지도 댓글 보수 꼴 송도 대구 지방 인구 아파트 미분 건설 부도 위기 여 이상 하락 기 하우스푸어 지금 금리 영향 내년 침체 실업 부동산 영향 크게 줄 거품 이제 투기 말 남한 태 피 눈물 이제 니 타임 재앙 내 아파트 값 이제 집값 한참 금리 계속 인상 고 거품 양심 인정 부분 송도유원지 갯뻘 난 그거 빚 정부 멍텅구리 닭장 시멘트 덩어리 말 실 건축 비 플러스 현금 돈 번 로 하락 투기 돈 은 정상 문죄인 정권 집 값 뭐 기레기 뭘었다 반토막 그것 정상 부동산 정상 물가 우리나라 물가 상승 선두 범 부동산 금도 구라 언론 부동산 경기도 외곽 인천 반토막 엄살 형아 소주 한잔 살 가격 적 정선 거품 얘기 이제야 집값 정상 프로 얼마나 호들갑 백만원 나혼자산다 재 야노 매번 투자 폭망 거품 위치 극단 지방 집값 지역 최고 아파트 사고 일자리 구미 강동 쪽 보시 둘 하나 외제차 함 사회 생각 집 담보 대출 왜 소득 대출 하나 소득 하라 담보 는가 조중동 이제 부동산 안정 기사 궁굼해 섹 가장 서식 이제 청년 집마려느 꿈 현실 부동산 안정화 애 미래 생각 부동산 더욱 안정화 도나 내집마련 꿈 청년 기회 기업 규제 모조리 풀 정율 제자리 상투 사람 피 안 자업 자득 여기 반토막 가야 그간 얼마 팔고 얼마나 나 자신 자책 바 바람 매립지 아파트 점 반토막 뭐 비정상 아파트 다시 아파트 난 집 사람 거품 일본 인천 금액 인천 집값 내년 시작 미국 금리 이상 올린다 확정 이제 시작 뭘 송 베리아 윤 도리 정권 손 일본 꼴 국민 반 자기 집값 안달 난 윤석 국짐 정상화 아이 분양 마이너스 치면 땐 곳 진짜 알짜 똘똘 채 말 똘똘이 이제 시작 사람 안정화 정상 상승세 전문가 반대 불자 수원 용인 광주 남양주 쪽 아파트 작년 가격 뭐 부산 왜 그대로 정상 복귀 계속 자극 기사 제목 어그 기자 집합 건물 아파트 가격 린 부작용 낚시 때 미래 위해 새끼 물고기 방류 듯이 서서히 가격 아파트 가격 투자자 이씨 가격 급등 부작용 금 시절 바닥 사람 얼마나 상상 내년 하반기 점 도달 이후 년 자 유지 예상 금리 화이팅 부산 집값 여기 부산 먕정젼 태아 파트 집값 이일 년 이나 지금 또 개 뉴스 연일 송도 아파트 울궈먹 이제 쪼 제자리 문제 지금 가격 반타작 오른 가격 비 하락 짝짝 짝 광규 급 매물 이면 지금 기회 다시 금리 시작 그때 곳 골 급내 한번 딜 계약 승자 인구 자꾸 팔 투기 힌 결과 끌족 탄생 투기 범 지금 가격 위치 그때 고고싱 전세계 물가 부동산 통화 인플레이션 극적 경제 사이클 때 뭐 아파트 공급 과 인구 감소 직주 근접 권 행정 편의 시설 완비 도심 강변 프리미엄 아파트 셀럽 부자 부촌 형성 양극화 진행중 부동산 후 반영 이제 시작 임 일본 서인 내집마련 신경 대책 그때 집값 적정 수준 송도 이유 왜 국민 짐 지지자 정치 병자 금리 부동산 흐름 젠 또 호들갑 어쩌 거 이제 시작 윤씨 이제야 정상 윤석열 대통령 단번 부동산 투기 쭉쭉더 쭉 재앙 빅똥 그거 얼마나 고생 뭉재앙 집값 문재인 정부 부동산 정책 폭등 집값 정상화 다만 빠 끌 빚투 집 사고 이자 폭탄 집값 폭락 지지 업보 정부 집값 개판 된거 이번 정부 얘기 거 기억 안나 반토막 대통령 업적 실제 부동산 가격 살 사연 매매 기사화 판단 국 집권 나라 개판 왜 무능력자 자리 몃달 반토막 몃달전 왜 따블 거래 재앙 수수께끼 좌파 정신 놈 집값 꼭 누구 때문 피해망상 증상 장난 놈 끌 집값 특등 정파 더민 좌파 투기 족 모조리 특수 거래 일 뿐 거품 거품 아파트 제테크 열심 투자 광규 그냥 부산 송도 집 사시 통 뭘 그냥 거지 윤통 또 뭘 부자 뒤 집사 바 대치면 살새 다시 꼭지 상승 집값 윤찍더 송도 집 하나 아마 수도권 정부 예상 집 앞 외각 분양 우리나라 집 집값 엉터리 전문가 실 전문 투기 꾼 판 그동안 집값 투기 전문가 인터넷 투기 금리 일과 집값 앞 절대 일 이유 거의 집 사람 아 능력 자체 분 집값 때 심리 불과 개 거래 크게 비 정상 우리 여기 집 거지 댓글 잔치 사연 아주 사례 가지 전체 인양 일반 기레기 주변 곳 하나 반토막 살돈 집도 돈 능력 남 집값 고대 무능력자 나중 집주인 경매 전세 금도 강 건너 불 바로 집 불 자산 거품 경제 시장 논리 형성 된거 라면 조금 이해 정치인 악덕 기업 투기 꾼 분 수가 국회 정당 모두 해산 시민 참여 직접 민주주의 가든 정치 꼬락서니 때문 문재인 집값 칠뜩 짓거리 시방 양산 아방궁 방벽 똥 상투 안됏 적당 가치 재앙 똥 언론 부채질 밀집 거래 난리 증여 신도시 포기 이제 세금 때 당분 계속 검찰 공화국 집값 전혀 관심 어자피 식구 민주당 포함 무조건 족 차고 왜곡 마치 용산 대공분실 내 야동 예술 니 외설 구속 번 집값 생각 재 무조건 집값 굥 그냥 다운 국짐애 태생 계층 사다리 이동 보지 그냥 끌 점 번 정권 때 거 빨 짓말 러브 은 당장 빚 댓글 무 주택 담 집값 윤 도리 사람 지금 손 가라 다음 국 힘 집값 푹락해 다음 집좀 양은 냄비 남 반값 욕심 돈 집 남 반값 양심 행동 생각 바 거래 활성화 제곱미터 세계 추세 한참 지금 무난 우리나라 집 명함 나라 때 엉덩이 집값 신경안 생업 만 금리 곳 부동산 주식 투자 논리 반대 무 주택 지금 절호 기회 만큼 분별 필요 인구 핵가족 화로 계속 송도 모허 노 압구정 신고 송도 함 서울 몇 시간 집값 통때 집 팔고 갑자기 폭등 바람 지금 집 살 엄두 수도권 부자 인제 실수 윤통 국힘 무능력 땅 후회 기회 서민 집 마련 경제 모양 꼴 정부 매도 부동산 실물 내년 금리 시작 내년 가을 문재인 대변 인질 집 값 지금 정상 중이 우리 나라 좀 논 노조 싹 한단 슬리퍼 집값 정부 탓 정부 탓 열씸히 집 하나 송도 그게 투기 멍 청아 당신 평생 월세 돌이 계속 그게 그거 세금 생각 문재인 정권 꼴 어쩌겠어 굥 경제 외교 곡 소리 문죄인 간 작품 집 하나 빚 서민 발 동동 인간 고스 란 문죄인 때문 서민 삶 양극화 심화 급락 후 급 반등 타이밍 모든 걸 개월 안 집산 사람 투기 자 재산권 보호 이나라 뭘 소유 는걸 사회주의 건가 걸 노리 부동산 조건 준 건가 이부 망 진리 이자 팩트 과학 끌 찍 본인 손가락 탓 문재인 재 평가 잘못 거가 말 안 탓임 집 입자 집주인 폭락 기우제 벼락 거지 인성 어디가 어차피 평생 동안 부동산 임대차 계약서 들락거리 금리 안 올린다 근성 진짜 집값 종부세 왜 집 문죄인 놈 \n"
          ]
        }
      ]
    },
    {
      "cell_type": "code",
      "source": [
        "import io \n",
        "\n",
        "df_text1 = pd.read_csv(io.StringIO(text1), sep=\",\")\n",
        "df_text1.to_csv('df_text1.csv')"
      ],
      "metadata": {
        "id": "2h5s6TtUKenM"
      },
      "execution_count": 88,
      "outputs": []
    },
    {
      "cell_type": "code",
      "source": [
        "from PIL import Image \n",
        "mask_image = np.array(Image.open('drive/MyDrive/house2.jpg'))\n",
        "\n",
        "wc = WordCloud(background_color = 'white',\n",
        "               font_path = 'drive/MyDrive/HMFMMUEX.TTC',\n",
        "               max_words = 100,\n",
        "               max_font_size = 100,\n",
        "               min_font_size = 10,\n",
        "               mask = mask_image,\n",
        "               colormap = 'plasma_r').generate(text1) # colormap : https://www.kaggle.com/code/niteshhalai/wordcloud-colormap\n",
        "wc.to_file('wc.png')"
      ],
      "metadata": {
        "colab": {
          "base_uri": "https://localhost:8080/"
        },
        "id": "M_IRt1rYezkE",
        "outputId": "9c6f24bd-25ae-4030-a1bb-a641ad0d3ff4"
      },
      "execution_count": 79,
      "outputs": [
        {
          "output_type": "execute_result",
          "data": {
            "text/plain": [
              "<wordcloud.wordcloud.WordCloud at 0x7f0e5aaa47f0>"
            ]
          },
          "metadata": {},
          "execution_count": 79
        }
      ]
    },
    {
      "cell_type": "code",
      "source": [
        "!ls -a"
      ],
      "metadata": {
        "colab": {
          "base_uri": "https://localhost:8080/"
        },
        "id": "QWMKEtjChCpJ",
        "outputId": "43bfa787-fa74-4e51-c78e-1aa65423deab"
      },
      "execution_count": 52,
      "outputs": [
        {
          "output_type": "stream",
          "name": "stdout",
          "text": [
            ".  ..  .config\tdrive  news1.csv  news2.csv  sample_data  wc.png\n"
          ]
        }
      ]
    },
    {
      "cell_type": "markdown",
      "source": [
        "### 마스크이미지가 white colored background를 갖는지 확인 (RGB 255,255,255)\n",
        "- 만일, 마스크이미지의 np.array가 [255,255,255] 형태를 보이지 않는다면, 아래 링크에 설명된 코드로 transform 해줘야함.\n",
        "- 그렇지 않으면, wordcloud결과가 mask image에 fit되지 않는 문제 발생할 수 있음.\n",
        "- https://stackoverflow.com/questions/50435433/wordcloud-words-not-fitting-to-mask"
      ],
      "metadata": {
        "id": "ZzC0bzl_aOxC"
      }
    },
    {
      "cell_type": "code",
      "source": [
        "print(mask_image)"
      ],
      "metadata": {
        "colab": {
          "base_uri": "https://localhost:8080/"
        },
        "id": "Lm52S-4lXUTN",
        "outputId": "36544e08-0df5-48d0-8379-133c161029c1"
      },
      "execution_count": 59,
      "outputs": [
        {
          "output_type": "stream",
          "name": "stdout",
          "text": [
            "[[[255 255 255]\n",
            "  [255 255 255]\n",
            "  [255 255 255]\n",
            "  ...\n",
            "  [255 255 255]\n",
            "  [255 255 255]\n",
            "  [255 255 255]]\n",
            "\n",
            " [[255 255 255]\n",
            "  [255 255 255]\n",
            "  [255 255 255]\n",
            "  ...\n",
            "  [255 255 255]\n",
            "  [255 255 255]\n",
            "  [255 255 255]]\n",
            "\n",
            " [[255 255 255]\n",
            "  [255 255 255]\n",
            "  [255 255 255]\n",
            "  ...\n",
            "  [255 255 255]\n",
            "  [255 255 255]\n",
            "  [255 255 255]]\n",
            "\n",
            " ...\n",
            "\n",
            " [[255 255 255]\n",
            "  [255 255 255]\n",
            "  [255 255 255]\n",
            "  ...\n",
            "  [255 255 255]\n",
            "  [255 255 255]\n",
            "  [255 255 255]]\n",
            "\n",
            " [[255 255 255]\n",
            "  [255 255 255]\n",
            "  [255 255 255]\n",
            "  ...\n",
            "  [255 255 255]\n",
            "  [255 255 255]\n",
            "  [255 255 255]]\n",
            "\n",
            " [[255 255 255]\n",
            "  [255 255 255]\n",
            "  [255 255 255]\n",
            "  ...\n",
            "  [255 255 255]\n",
            "  [255 255 255]\n",
            "  [255 255 255]]]\n"
          ]
        }
      ]
    },
    {
      "cell_type": "code",
      "source": [
        "from IPython.display import Image\n",
        "Image('wc.png')"
      ],
      "metadata": {
        "colab": {
          "base_uri": "https://localhost:8080/",
          "height": 731
        },
        "id": "a_4uDNPzkR0Q",
        "outputId": "fbe19212-4557-4c4d-bada-c7a91315a87d"
      },
      "execution_count": 80,
      "outputs": [
        {
          "output_type": "execute_result",
          "data": {
            "image/png": "[encoded data removed]",
            "text/plain": [
              "<IPython.core.display.Image object>"
            ]
          },
          "metadata": {},
          "execution_count": 80
        }
      ]
    },
    {
      "cell_type": "code",
      "source": [],
      "metadata": {
        "id": "ixXZQ2rOVjGi"
      },
      "execution_count": null,
      "outputs": []
    }
  ]
}